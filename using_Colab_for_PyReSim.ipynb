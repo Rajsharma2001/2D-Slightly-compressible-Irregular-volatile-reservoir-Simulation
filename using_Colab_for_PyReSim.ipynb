{
  "nbformat": 4,
  "nbformat_minor": 0,
  "metadata": {
    "colab": {
      "name": "using_Colab_for_PyReSim.ipynb",
      "provenance": [],
      "collapsed_sections": [],
      "toc_visible": true,
      "authorship_tag": "ABX9TyMj2QdpH5Ta6yNaoYxWz2p3",
      "include_colab_link": true
    },
    "kernelspec": {
      "name": "python3",
      "display_name": "Python 3"
    }
  },
  "cells": [
    {
      "cell_type": "markdown",
      "metadata": {
        "id": "view-in-github",
        "colab_type": "text"
      },
      "source": [
        "<a href=\"https://colab.research.google.com/github/yohanesnuwara/pyresim/blob/master/using_Colab_for_PyReSim.ipynb\" target=\"_parent\"><img src=\"https://colab.research.google.com/assets/colab-badge.svg\" alt=\"Open In Colab\"/></a>"
      ]
    },
    {
      "cell_type": "markdown",
      "metadata": {
        "id": "V0n2a1NflBuD",
        "colab_type": "text"
      },
      "source": [
        "# Template for Running PyReSim Simulator in Google Colab"
      ]
    },
    {
      "cell_type": "markdown",
      "metadata": {
        "id": "W7ZfcXdIlxgx",
        "colab_type": "text"
      },
      "source": [
        "Google Colab (cloud-based) allows faster computation with Python, as an alternative to your Python IDE in your local PC. It offers 12.72 GB of RAM and 107.77 GB of Disk storage. You can enable GPU too if the simulation requires tough computational effort. "
      ]
    },
    {
      "cell_type": "markdown",
      "metadata": {
        "id": "-lLzvFsclHtF",
        "colab_type": "text"
      },
      "source": [
        "Import three important libraries. Have been done for you below. "
      ]
    },
    {
      "cell_type": "code",
      "metadata": {
        "id": "FZeGGFyZk-LY",
        "colab_type": "code",
        "colab": {}
      },
      "source": [
        "import numpy as np\n",
        "import matplotlib.pyplot as plt\n",
        "import pandas as pd"
      ],
      "execution_count": 1,
      "outputs": []
    },
    {
      "cell_type": "markdown",
      "metadata": {
        "id": "Th2cQZYplRta",
        "colab_type": "text"
      },
      "source": [
        "Clone the PyReSim GitHub repository"
      ]
    },
    {
      "cell_type": "code",
      "metadata": {
        "id": "jXlyJoCLlVXk",
        "colab_type": "code",
        "colab": {
          "base_uri": "https://localhost:8080/",
          "height": 122
        },
        "outputId": "2e3d5cca-4227-4a08-d0fc-f756e4410b01"
      },
      "source": [
        "!git clone https://github.com/yohanesnuwara/pyresim"
      ],
      "execution_count": 2,
      "outputs": [
        {
          "output_type": "stream",
          "text": [
            "Cloning into 'pyresim'...\n",
            "remote: Enumerating objects: 82, done.\u001b[K\n",
            "remote: Counting objects: 100% (82/82), done.\u001b[K\n",
            "remote: Compressing objects: 100% (71/71), done.\u001b[K\n",
            "remote: Total 82 (delta 35), reused 0 (delta 0), pack-reused 0\u001b[K\n",
            "Unpacking objects: 100% (82/82), done.\n"
          ],
          "name": "stdout"
        }
      ]
    },
    {
      "cell_type": "markdown",
      "metadata": {
        "id": "z4ODxQ7nlaSE",
        "colab_type": "text"
      },
      "source": [
        "Locate the function libraries, for import later"
      ]
    },
    {
      "cell_type": "code",
      "metadata": {
        "id": "L3PnTscnlZoa",
        "colab_type": "code",
        "colab": {}
      },
      "source": [
        "import sys\n",
        "sys.path.append('/content/pyresim/functions')"
      ],
      "execution_count": 3,
      "outputs": []
    },
    {
      "cell_type": "markdown",
      "metadata": {
        "id": "LNuSkjj7lmC9",
        "colab_type": "text"
      },
      "source": [
        "## Simulator Code"
      ]
    },
    {
      "cell_type": "markdown",
      "metadata": {
        "id": "lNMtvKgZlqC4",
        "colab_type": "text"
      },
      "source": [
        "Paste the simulator code here."
      ]
    },
    {
      "cell_type": "code",
      "metadata": {
        "id": "2_DuIWI4lonN",
        "colab_type": "code",
        "colab": {}
      },
      "source": [
        "### Paste the code here"
      ],
      "execution_count": null,
      "outputs": []
    }
  ]
}