{
  "nbformat": 4,
  "nbformat_minor": 0,
  "metadata": {
    "colab": {
      "name": "PyReSim_PVT_GUI.ipynb",
      "provenance": [],
      "collapsed_sections": [],
      "toc_visible": true,
      "authorship_tag": "ABX9TyPlSquc0FhCnW9MuBcXy9IV",
      "include_colab_link": true
    },
    "kernelspec": {
      "name": "python3",
      "display_name": "Python 3"
    },
    "widgets": {
      "application/vnd.jupyter.widget-state+json": {
        "14af8458b6834a8ead209791fa1ae013": {
          "model_module": "@jupyter-widgets/controls",
          "model_name": "VBoxModel",
          "state": {
            "_view_name": "VBoxView",
            "_dom_classes": [
              "widget-interact"
            ],
            "_model_name": "VBoxModel",
            "_view_module": "@jupyter-widgets/controls",
            "_model_module_version": "1.5.0",
            "_view_count": null,
            "_view_module_version": "1.5.0",
            "box_style": "",
            "layout": "IPY_MODEL_5b0e5c79a8a545839f87bb531c8e85d9",
            "_model_module": "@jupyter-widgets/controls",
            "children": [
              "IPY_MODEL_f067234638b64ae2a56162bed3690ac8",
              "IPY_MODEL_cb140a1eb26c42c0bfc27b1c2e3f3f1d",
              "IPY_MODEL_e89b481be9be40aeae559acd65a3ee92",
              "IPY_MODEL_a4ff41bb2cb148c3a136b09a79958e40",
              "IPY_MODEL_e16ae9db81364cca9bed30f05fccdca8"
            ]
          }
        },
        "5b0e5c79a8a545839f87bb531c8e85d9": {
          "model_module": "@jupyter-widgets/base",
          "model_name": "LayoutModel",
          "state": {
            "_view_name": "LayoutView",
            "grid_template_rows": null,
            "right": null,
            "justify_content": null,
            "_view_module": "@jupyter-widgets/base",
            "overflow": null,
            "_model_module_version": "1.2.0",
            "_view_count": null,
            "flex_flow": null,
            "width": null,
            "min_width": null,
            "border": null,
            "align_items": null,
            "bottom": null,
            "_model_module": "@jupyter-widgets/base",
            "top": null,
            "grid_column": null,
            "overflow_y": null,
            "overflow_x": null,
            "grid_auto_flow": null,
            "grid_area": null,
            "grid_template_columns": null,
            "flex": null,
            "_model_name": "LayoutModel",
            "justify_items": null,
            "grid_row": null,
            "max_height": null,
            "align_content": null,
            "visibility": null,
            "align_self": null,
            "height": null,
            "min_height": null,
            "padding": null,
            "grid_auto_rows": null,
            "grid_gap": null,
            "max_width": null,
            "order": null,
            "_view_module_version": "1.2.0",
            "grid_template_areas": null,
            "object_position": null,
            "object_fit": null,
            "grid_auto_columns": null,
            "margin": null,
            "display": null,
            "left": null
          }
        },
        "f067234638b64ae2a56162bed3690ac8": {
          "model_module": "@jupyter-widgets/controls",
          "model_name": "IntSliderModel",
          "state": {
            "_view_name": "IntSliderView",
            "style": "IPY_MODEL_166ae60c1a4e40c69f474583de6e1e9c",
            "_dom_classes": [],
            "description": "temp",
            "step": 1,
            "_model_name": "IntSliderModel",
            "orientation": "horizontal",
            "max": 572,
            "_view_module": "@jupyter-widgets/controls",
            "_model_module_version": "1.5.0",
            "value": 113,
            "_view_count": null,
            "disabled": false,
            "_view_module_version": "1.5.0",
            "min": 110,
            "continuous_update": true,
            "readout_format": "d",
            "description_tooltip": null,
            "readout": true,
            "_model_module": "@jupyter-widgets/controls",
            "layout": "IPY_MODEL_6a489baf5bb941c2ba747c1af0748eba"
          }
        },
        "cb140a1eb26c42c0bfc27b1c2e3f3f1d": {
          "model_module": "@jupyter-widgets/controls",
          "model_name": "FloatSliderModel",
          "state": {
            "_view_name": "FloatSliderView",
            "style": "IPY_MODEL_29bee5eca20a4f909fc0ce31e3a66e75",
            "_dom_classes": [],
            "description": "sg",
            "step": 0.1,
            "_model_name": "FloatSliderModel",
            "orientation": "horizontal",
            "max": 1.4,
            "_view_module": "@jupyter-widgets/controls",
            "_model_module_version": "1.5.0",
            "value": 1.37,
            "_view_count": null,
            "disabled": false,
            "_view_module_version": "1.5.0",
            "min": 0.57,
            "continuous_update": true,
            "readout_format": ".2f",
            "description_tooltip": null,
            "readout": true,
            "_model_module": "@jupyter-widgets/controls",
            "layout": "IPY_MODEL_99af7b6567674bc38bf7028d8730440e"
          }
        },
        "e89b481be9be40aeae559acd65a3ee92": {
          "model_module": "@jupyter-widgets/controls",
          "model_name": "FloatSliderModel",
          "state": {
            "_view_name": "FloatSliderView",
            "style": "IPY_MODEL_8539617072ef421ea78249e878bf93aa",
            "_dom_classes": [],
            "description": "x_h2s",
            "step": 0.1,
            "_model_name": "FloatSliderModel",
            "orientation": "horizontal",
            "max": 0.4,
            "_view_module": "@jupyter-widgets/controls",
            "_model_module_version": "1.5.0",
            "value": 0.4,
            "_view_count": null,
            "disabled": false,
            "_view_module_version": "1.5.0",
            "min": 0,
            "continuous_update": true,
            "readout_format": ".2f",
            "description_tooltip": null,
            "readout": true,
            "_model_module": "@jupyter-widgets/controls",
            "layout": "IPY_MODEL_5c4efad2c316499a9ef385beb54ebe73"
          }
        },
        "a4ff41bb2cb148c3a136b09a79958e40": {
          "model_module": "@jupyter-widgets/controls",
          "model_name": "FloatSliderModel",
          "state": {
            "_view_name": "FloatSliderView",
            "style": "IPY_MODEL_5df399dfdd7c4cf4a6176ff5297e53eb",
            "_dom_classes": [],
            "description": "x_co2",
            "step": 0.1,
            "_model_name": "FloatSliderModel",
            "orientation": "horizontal",
            "max": 0.4,
            "_view_module": "@jupyter-widgets/controls",
            "_model_module_version": "1.5.0",
            "value": 0.1,
            "_view_count": null,
            "disabled": false,
            "_view_module_version": "1.5.0",
            "min": 0,
            "continuous_update": true,
            "readout_format": ".2f",
            "description_tooltip": null,
            "readout": true,
            "_model_module": "@jupyter-widgets/controls",
            "layout": "IPY_MODEL_89e67111cd03418b8244bf5d1a76f7cd"
          }
        },
        "e16ae9db81364cca9bed30f05fccdca8": {
          "model_module": "@jupyter-widgets/output",
          "model_name": "OutputModel",
          "state": {
            "_view_name": "OutputView",
            "msg_id": "",
            "_dom_classes": [],
            "_model_name": "OutputModel",
            "outputs": [
              {
                "output_type": "display_data",
                "metadata": {
                  "tags": [],
                  "needs_background": "light"
                },
                "image/png": "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\n",
                "text/plain": "<Figure size 432x288 with 1 Axes>"
              }
            ],
            "_view_module": "@jupyter-widgets/output",
            "_model_module_version": "1.0.0",
            "_view_count": null,
            "_view_module_version": "1.0.0",
            "layout": "IPY_MODEL_c1d1ec89eb3a48ad9f04fb355ee33a31",
            "_model_module": "@jupyter-widgets/output"
          }
        },
        "166ae60c1a4e40c69f474583de6e1e9c": {
          "model_module": "@jupyter-widgets/controls",
          "model_name": "SliderStyleModel",
          "state": {
            "_view_name": "StyleView",
            "handle_color": null,
            "_model_name": "SliderStyleModel",
            "description_width": "",
            "_view_module": "@jupyter-widgets/base",
            "_model_module_version": "1.5.0",
            "_view_count": null,
            "_view_module_version": "1.2.0",
            "_model_module": "@jupyter-widgets/controls"
          }
        },
        "6a489baf5bb941c2ba747c1af0748eba": {
          "model_module": "@jupyter-widgets/base",
          "model_name": "LayoutModel",
          "state": {
            "_view_name": "LayoutView",
            "grid_template_rows": null,
            "right": null,
            "justify_content": null,
            "_view_module": "@jupyter-widgets/base",
            "overflow": null,
            "_model_module_version": "1.2.0",
            "_view_count": null,
            "flex_flow": null,
            "width": null,
            "min_width": null,
            "border": null,
            "align_items": null,
            "bottom": null,
            "_model_module": "@jupyter-widgets/base",
            "top": null,
            "grid_column": null,
            "overflow_y": null,
            "overflow_x": null,
            "grid_auto_flow": null,
            "grid_area": null,
            "grid_template_columns": null,
            "flex": null,
            "_model_name": "LayoutModel",
            "justify_items": null,
            "grid_row": null,
            "max_height": null,
            "align_content": null,
            "visibility": null,
            "align_self": null,
            "height": null,
            "min_height": null,
            "padding": null,
            "grid_auto_rows": null,
            "grid_gap": null,
            "max_width": null,
            "order": null,
            "_view_module_version": "1.2.0",
            "grid_template_areas": null,
            "object_position": null,
            "object_fit": null,
            "grid_auto_columns": null,
            "margin": null,
            "display": null,
            "left": null
          }
        },
        "29bee5eca20a4f909fc0ce31e3a66e75": {
          "model_module": "@jupyter-widgets/controls",
          "model_name": "SliderStyleModel",
          "state": {
            "_view_name": "StyleView",
            "handle_color": null,
            "_model_name": "SliderStyleModel",
            "description_width": "",
            "_view_module": "@jupyter-widgets/base",
            "_model_module_version": "1.5.0",
            "_view_count": null,
            "_view_module_version": "1.2.0",
            "_model_module": "@jupyter-widgets/controls"
          }
        },
        "99af7b6567674bc38bf7028d8730440e": {
          "model_module": "@jupyter-widgets/base",
          "model_name": "LayoutModel",
          "state": {
            "_view_name": "LayoutView",
            "grid_template_rows": null,
            "right": null,
            "justify_content": null,
            "_view_module": "@jupyter-widgets/base",
            "overflow": null,
            "_model_module_version": "1.2.0",
            "_view_count": null,
            "flex_flow": null,
            "width": null,
            "min_width": null,
            "border": null,
            "align_items": null,
            "bottom": null,
            "_model_module": "@jupyter-widgets/base",
            "top": null,
            "grid_column": null,
            "overflow_y": null,
            "overflow_x": null,
            "grid_auto_flow": null,
            "grid_area": null,
            "grid_template_columns": null,
            "flex": null,
            "_model_name": "LayoutModel",
            "justify_items": null,
            "grid_row": null,
            "max_height": null,
            "align_content": null,
            "visibility": null,
            "align_self": null,
            "height": null,
            "min_height": null,
            "padding": null,
            "grid_auto_rows": null,
            "grid_gap": null,
            "max_width": null,
            "order": null,
            "_view_module_version": "1.2.0",
            "grid_template_areas": null,
            "object_position": null,
            "object_fit": null,
            "grid_auto_columns": null,
            "margin": null,
            "display": null,
            "left": null
          }
        },
        "8539617072ef421ea78249e878bf93aa": {
          "model_module": "@jupyter-widgets/controls",
          "model_name": "SliderStyleModel",
          "state": {
            "_view_name": "StyleView",
            "handle_color": null,
            "_model_name": "SliderStyleModel",
            "description_width": "",
            "_view_module": "@jupyter-widgets/base",
            "_model_module_version": "1.5.0",
            "_view_count": null,
            "_view_module_version": "1.2.0",
            "_model_module": "@jupyter-widgets/controls"
          }
        },
        "5c4efad2c316499a9ef385beb54ebe73": {
          "model_module": "@jupyter-widgets/base",
          "model_name": "LayoutModel",
          "state": {
            "_view_name": "LayoutView",
            "grid_template_rows": null,
            "right": null,
            "justify_content": null,
            "_view_module": "@jupyter-widgets/base",
            "overflow": null,
            "_model_module_version": "1.2.0",
            "_view_count": null,
            "flex_flow": null,
            "width": null,
            "min_width": null,
            "border": null,
            "align_items": null,
            "bottom": null,
            "_model_module": "@jupyter-widgets/base",
            "top": null,
            "grid_column": null,
            "overflow_y": null,
            "overflow_x": null,
            "grid_auto_flow": null,
            "grid_area": null,
            "grid_template_columns": null,
            "flex": null,
            "_model_name": "LayoutModel",
            "justify_items": null,
            "grid_row": null,
            "max_height": null,
            "align_content": null,
            "visibility": null,
            "align_self": null,
            "height": null,
            "min_height": null,
            "padding": null,
            "grid_auto_rows": null,
            "grid_gap": null,
            "max_width": null,
            "order": null,
            "_view_module_version": "1.2.0",
            "grid_template_areas": null,
            "object_position": null,
            "object_fit": null,
            "grid_auto_columns": null,
            "margin": null,
            "display": null,
            "left": null
          }
        },
        "5df399dfdd7c4cf4a6176ff5297e53eb": {
          "model_module": "@jupyter-widgets/controls",
          "model_name": "SliderStyleModel",
          "state": {
            "_view_name": "StyleView",
            "handle_color": null,
            "_model_name": "SliderStyleModel",
            "description_width": "",
            "_view_module": "@jupyter-widgets/base",
            "_model_module_version": "1.5.0",
            "_view_count": null,
            "_view_module_version": "1.2.0",
            "_model_module": "@jupyter-widgets/controls"
          }
        },
        "89e67111cd03418b8244bf5d1a76f7cd": {
          "model_module": "@jupyter-widgets/base",
          "model_name": "LayoutModel",
          "state": {
            "_view_name": "LayoutView",
            "grid_template_rows": null,
            "right": null,
            "justify_content": null,
            "_view_module": "@jupyter-widgets/base",
            "overflow": null,
            "_model_module_version": "1.2.0",
            "_view_count": null,
            "flex_flow": null,
            "width": null,
            "min_width": null,
            "border": null,
            "align_items": null,
            "bottom": null,
            "_model_module": "@jupyter-widgets/base",
            "top": null,
            "grid_column": null,
            "overflow_y": null,
            "overflow_x": null,
            "grid_auto_flow": null,
            "grid_area": null,
            "grid_template_columns": null,
            "flex": null,
            "_model_name": "LayoutModel",
            "justify_items": null,
            "grid_row": null,
            "max_height": null,
            "align_content": null,
            "visibility": null,
            "align_self": null,
            "height": null,
            "min_height": null,
            "padding": null,
            "grid_auto_rows": null,
            "grid_gap": null,
            "max_width": null,
            "order": null,
            "_view_module_version": "1.2.0",
            "grid_template_areas": null,
            "object_position": null,
            "object_fit": null,
            "grid_auto_columns": null,
            "margin": null,
            "display": null,
            "left": null
          }
        },
        "c1d1ec89eb3a48ad9f04fb355ee33a31": {
          "model_module": "@jupyter-widgets/base",
          "model_name": "LayoutModel",
          "state": {
            "_view_name": "LayoutView",
            "grid_template_rows": null,
            "right": null,
            "justify_content": null,
            "_view_module": "@jupyter-widgets/base",
            "overflow": null,
            "_model_module_version": "1.2.0",
            "_view_count": null,
            "flex_flow": null,
            "width": null,
            "min_width": null,
            "border": null,
            "align_items": null,
            "bottom": null,
            "_model_module": "@jupyter-widgets/base",
            "top": null,
            "grid_column": null,
            "overflow_y": null,
            "overflow_x": null,
            "grid_auto_flow": null,
            "grid_area": null,
            "grid_template_columns": null,
            "flex": null,
            "_model_name": "LayoutModel",
            "justify_items": null,
            "grid_row": null,
            "max_height": null,
            "align_content": null,
            "visibility": null,
            "align_self": null,
            "height": null,
            "min_height": null,
            "padding": null,
            "grid_auto_rows": null,
            "grid_gap": null,
            "max_width": null,
            "order": null,
            "_view_module_version": "1.2.0",
            "grid_template_areas": null,
            "object_position": null,
            "object_fit": null,
            "grid_auto_columns": null,
            "margin": null,
            "display": null,
            "left": null
          }
        },
        "fe45013bddf74ecabddeebb9a344dc32": {
          "model_module": "@jupyter-widgets/controls",
          "model_name": "VBoxModel",
          "state": {
            "_view_name": "VBoxView",
            "_dom_classes": [
              "widget-interact"
            ],
            "_model_name": "VBoxModel",
            "_view_module": "@jupyter-widgets/controls",
            "_model_module_version": "1.5.0",
            "_view_count": null,
            "_view_module_version": "1.5.0",
            "box_style": "",
            "layout": "IPY_MODEL_b25982f340a44267842e4e727fc8ee8e",
            "_model_module": "@jupyter-widgets/controls",
            "children": [
              "IPY_MODEL_d086132b421f4f5f8ce4f94db35e8e61",
              "IPY_MODEL_2da6d1e9296c4a239040be2e9140909c",
              "IPY_MODEL_d65a56f884874cf7803b45ec66e04510",
              "IPY_MODEL_72149180cdac48d2a800358222434fed",
              "IPY_MODEL_3c475e9de3f249da857c3b221e65015f"
            ]
          }
        },
        "b25982f340a44267842e4e727fc8ee8e": {
          "model_module": "@jupyter-widgets/base",
          "model_name": "LayoutModel",
          "state": {
            "_view_name": "LayoutView",
            "grid_template_rows": null,
            "right": null,
            "justify_content": null,
            "_view_module": "@jupyter-widgets/base",
            "overflow": null,
            "_model_module_version": "1.2.0",
            "_view_count": null,
            "flex_flow": null,
            "width": null,
            "min_width": null,
            "border": null,
            "align_items": null,
            "bottom": null,
            "_model_module": "@jupyter-widgets/base",
            "top": null,
            "grid_column": null,
            "overflow_y": null,
            "overflow_x": null,
            "grid_auto_flow": null,
            "grid_area": null,
            "grid_template_columns": null,
            "flex": null,
            "_model_name": "LayoutModel",
            "justify_items": null,
            "grid_row": null,
            "max_height": null,
            "align_content": null,
            "visibility": null,
            "align_self": null,
            "height": null,
            "min_height": null,
            "padding": null,
            "grid_auto_rows": null,
            "grid_gap": null,
            "max_width": null,
            "order": null,
            "_view_module_version": "1.2.0",
            "grid_template_areas": null,
            "object_position": null,
            "object_fit": null,
            "grid_auto_columns": null,
            "margin": null,
            "display": null,
            "left": null
          }
        },
        "d086132b421f4f5f8ce4f94db35e8e61": {
          "model_module": "@jupyter-widgets/controls",
          "model_name": "IntSliderModel",
          "state": {
            "_view_name": "IntSliderView",
            "style": "IPY_MODEL_863eae9ecc384dd897b4e4c97ea35ce9",
            "_dom_classes": [],
            "description": "Rsb",
            "step": 1,
            "_model_name": "IntSliderModel",
            "orientation": "horizontal",
            "max": 2070,
            "_view_module": "@jupyter-widgets/controls",
            "_model_module_version": "1.5.0",
            "value": 688,
            "_view_count": null,
            "disabled": false,
            "_view_module_version": "1.5.0",
            "min": 20,
            "continuous_update": true,
            "readout_format": "d",
            "description_tooltip": null,
            "readout": true,
            "_model_module": "@jupyter-widgets/controls",
            "layout": "IPY_MODEL_e8ca17d18f094489a32a520556ce22c6"
          }
        },
        "2da6d1e9296c4a239040be2e9140909c": {
          "model_module": "@jupyter-widgets/controls",
          "model_name": "FloatSliderModel",
          "state": {
            "_view_name": "FloatSliderView",
            "style": "IPY_MODEL_4bf49511382445e38f3dc1756aedaa67",
            "_dom_classes": [],
            "description": "sg",
            "step": 0.1,
            "_model_name": "FloatSliderModel",
            "orientation": "horizontal",
            "max": 1.18,
            "_view_module": "@jupyter-widgets/controls",
            "_model_module_version": "1.5.0",
            "value": 0.76,
            "_view_count": null,
            "disabled": false,
            "_view_module_version": "1.5.0",
            "min": 0.56,
            "continuous_update": true,
            "readout_format": ".2f",
            "description_tooltip": null,
            "readout": true,
            "_model_module": "@jupyter-widgets/controls",
            "layout": "IPY_MODEL_2fd2e175c17e40668c56ec78a6f1beaf"
          }
        },
        "d65a56f884874cf7803b45ec66e04510": {
          "model_module": "@jupyter-widgets/controls",
          "model_name": "IntSliderModel",
          "state": {
            "_view_name": "IntSliderView",
            "style": "IPY_MODEL_38155c500507404b9d0ba22d3e7c05fe",
            "_dom_classes": [],
            "description": "api",
            "step": 1,
            "_model_name": "IntSliderModel",
            "orientation": "horizontal",
            "max": 58,
            "_view_module": "@jupyter-widgets/controls",
            "_model_module_version": "1.5.0",
            "value": 50,
            "_view_count": null,
            "disabled": false,
            "_view_module_version": "1.5.0",
            "min": 16,
            "continuous_update": true,
            "readout_format": "d",
            "description_tooltip": null,
            "readout": true,
            "_model_module": "@jupyter-widgets/controls",
            "layout": "IPY_MODEL_9f1cf57b84614fff81f450daa8ffd8d6"
          }
        },
        "72149180cdac48d2a800358222434fed": {
          "model_module": "@jupyter-widgets/controls",
          "model_name": "IntSliderModel",
          "state": {
            "_view_name": "IntSliderView",
            "style": "IPY_MODEL_7a715b51ad804b9d91d3ea019f314f9c",
            "_dom_classes": [],
            "description": "temp",
            "step": 1,
            "_model_name": "IntSliderModel",
            "orientation": "horizontal",
            "max": 295,
            "_view_module": "@jupyter-widgets/controls",
            "_model_module_version": "1.5.0",
            "value": 242,
            "_view_count": null,
            "disabled": false,
            "_view_module_version": "1.5.0",
            "min": 70,
            "continuous_update": true,
            "readout_format": "d",
            "description_tooltip": null,
            "readout": true,
            "_model_module": "@jupyter-widgets/controls",
            "layout": "IPY_MODEL_96cec1ead46348118625e292259de658"
          }
        },
        "3c475e9de3f249da857c3b221e65015f": {
          "model_module": "@jupyter-widgets/output",
          "model_name": "OutputModel",
          "state": {
            "_view_name": "OutputView",
            "msg_id": "",
            "_dom_classes": [],
            "_model_name": "OutputModel",
            "outputs": [
              {
                "output_type": "display_data",
                "metadata": {
                  "tags": [],
                  "needs_background": "light"
                },
                "image/png": "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\n",
                "text/plain": "<Figure size 432x288 with 1 Axes>"
              }
            ],
            "_view_module": "@jupyter-widgets/output",
            "_model_module_version": "1.0.0",
            "_view_count": null,
            "_view_module_version": "1.0.0",
            "layout": "IPY_MODEL_c70c9c9572314282b65990b91aab56b1",
            "_model_module": "@jupyter-widgets/output"
          }
        },
        "863eae9ecc384dd897b4e4c97ea35ce9": {
          "model_module": "@jupyter-widgets/controls",
          "model_name": "SliderStyleModel",
          "state": {
            "_view_name": "StyleView",
            "handle_color": null,
            "_model_name": "SliderStyleModel",
            "description_width": "",
            "_view_module": "@jupyter-widgets/base",
            "_model_module_version": "1.5.0",
            "_view_count": null,
            "_view_module_version": "1.2.0",
            "_model_module": "@jupyter-widgets/controls"
          }
        },
        "e8ca17d18f094489a32a520556ce22c6": {
          "model_module": "@jupyter-widgets/base",
          "model_name": "LayoutModel",
          "state": {
            "_view_name": "LayoutView",
            "grid_template_rows": null,
            "right": null,
            "justify_content": null,
            "_view_module": "@jupyter-widgets/base",
            "overflow": null,
            "_model_module_version": "1.2.0",
            "_view_count": null,
            "flex_flow": null,
            "width": null,
            "min_width": null,
            "border": null,
            "align_items": null,
            "bottom": null,
            "_model_module": "@jupyter-widgets/base",
            "top": null,
            "grid_column": null,
            "overflow_y": null,
            "overflow_x": null,
            "grid_auto_flow": null,
            "grid_area": null,
            "grid_template_columns": null,
            "flex": null,
            "_model_name": "LayoutModel",
            "justify_items": null,
            "grid_row": null,
            "max_height": null,
            "align_content": null,
            "visibility": null,
            "align_self": null,
            "height": null,
            "min_height": null,
            "padding": null,
            "grid_auto_rows": null,
            "grid_gap": null,
            "max_width": null,
            "order": null,
            "_view_module_version": "1.2.0",
            "grid_template_areas": null,
            "object_position": null,
            "object_fit": null,
            "grid_auto_columns": null,
            "margin": null,
            "display": null,
            "left": null
          }
        },
        "4bf49511382445e38f3dc1756aedaa67": {
          "model_module": "@jupyter-widgets/controls",
          "model_name": "SliderStyleModel",
          "state": {
            "_view_name": "StyleView",
            "handle_color": null,
            "_model_name": "SliderStyleModel",
            "description_width": "",
            "_view_module": "@jupyter-widgets/base",
            "_model_module_version": "1.5.0",
            "_view_count": null,
            "_view_module_version": "1.2.0",
            "_model_module": "@jupyter-widgets/controls"
          }
        },
        "2fd2e175c17e40668c56ec78a6f1beaf": {
          "model_module": "@jupyter-widgets/base",
          "model_name": "LayoutModel",
          "state": {
            "_view_name": "LayoutView",
            "grid_template_rows": null,
            "right": null,
            "justify_content": null,
            "_view_module": "@jupyter-widgets/base",
            "overflow": null,
            "_model_module_version": "1.2.0",
            "_view_count": null,
            "flex_flow": null,
            "width": null,
            "min_width": null,
            "border": null,
            "align_items": null,
            "bottom": null,
            "_model_module": "@jupyter-widgets/base",
            "top": null,
            "grid_column": null,
            "overflow_y": null,
            "overflow_x": null,
            "grid_auto_flow": null,
            "grid_area": null,
            "grid_template_columns": null,
            "flex": null,
            "_model_name": "LayoutModel",
            "justify_items": null,
            "grid_row": null,
            "max_height": null,
            "align_content": null,
            "visibility": null,
            "align_self": null,
            "height": null,
            "min_height": null,
            "padding": null,
            "grid_auto_rows": null,
            "grid_gap": null,
            "max_width": null,
            "order": null,
            "_view_module_version": "1.2.0",
            "grid_template_areas": null,
            "object_position": null,
            "object_fit": null,
            "grid_auto_columns": null,
            "margin": null,
            "display": null,
            "left": null
          }
        },
        "38155c500507404b9d0ba22d3e7c05fe": {
          "model_module": "@jupyter-widgets/controls",
          "model_name": "SliderStyleModel",
          "state": {
            "_view_name": "StyleView",
            "handle_color": null,
            "_model_name": "SliderStyleModel",
            "description_width": "",
            "_view_module": "@jupyter-widgets/base",
            "_model_module_version": "1.5.0",
            "_view_count": null,
            "_view_module_version": "1.2.0",
            "_model_module": "@jupyter-widgets/controls"
          }
        },
        "9f1cf57b84614fff81f450daa8ffd8d6": {
          "model_module": "@jupyter-widgets/base",
          "model_name": "LayoutModel",
          "state": {
            "_view_name": "LayoutView",
            "grid_template_rows": null,
            "right": null,
            "justify_content": null,
            "_view_module": "@jupyter-widgets/base",
            "overflow": null,
            "_model_module_version": "1.2.0",
            "_view_count": null,
            "flex_flow": null,
            "width": null,
            "min_width": null,
            "border": null,
            "align_items": null,
            "bottom": null,
            "_model_module": "@jupyter-widgets/base",
            "top": null,
            "grid_column": null,
            "overflow_y": null,
            "overflow_x": null,
            "grid_auto_flow": null,
            "grid_area": null,
            "grid_template_columns": null,
            "flex": null,
            "_model_name": "LayoutModel",
            "justify_items": null,
            "grid_row": null,
            "max_height": null,
            "align_content": null,
            "visibility": null,
            "align_self": null,
            "height": null,
            "min_height": null,
            "padding": null,
            "grid_auto_rows": null,
            "grid_gap": null,
            "max_width": null,
            "order": null,
            "_view_module_version": "1.2.0",
            "grid_template_areas": null,
            "object_position": null,
            "object_fit": null,
            "grid_auto_columns": null,
            "margin": null,
            "display": null,
            "left": null
          }
        },
        "7a715b51ad804b9d91d3ea019f314f9c": {
          "model_module": "@jupyter-widgets/controls",
          "model_name": "SliderStyleModel",
          "state": {
            "_view_name": "StyleView",
            "handle_color": null,
            "_model_name": "SliderStyleModel",
            "description_width": "",
            "_view_module": "@jupyter-widgets/base",
            "_model_module_version": "1.5.0",
            "_view_count": null,
            "_view_module_version": "1.2.0",
            "_model_module": "@jupyter-widgets/controls"
          }
        },
        "96cec1ead46348118625e292259de658": {
          "model_module": "@jupyter-widgets/base",
          "model_name": "LayoutModel",
          "state": {
            "_view_name": "LayoutView",
            "grid_template_rows": null,
            "right": null,
            "justify_content": null,
            "_view_module": "@jupyter-widgets/base",
            "overflow": null,
            "_model_module_version": "1.2.0",
            "_view_count": null,
            "flex_flow": null,
            "width": null,
            "min_width": null,
            "border": null,
            "align_items": null,
            "bottom": null,
            "_model_module": "@jupyter-widgets/base",
            "top": null,
            "grid_column": null,
            "overflow_y": null,
            "overflow_x": null,
            "grid_auto_flow": null,
            "grid_area": null,
            "grid_template_columns": null,
            "flex": null,
            "_model_name": "LayoutModel",
            "justify_items": null,
            "grid_row": null,
            "max_height": null,
            "align_content": null,
            "visibility": null,
            "align_self": null,
            "height": null,
            "min_height": null,
            "padding": null,
            "grid_auto_rows": null,
            "grid_gap": null,
            "max_width": null,
            "order": null,
            "_view_module_version": "1.2.0",
            "grid_template_areas": null,
            "object_position": null,
            "object_fit": null,
            "grid_auto_columns": null,
            "margin": null,
            "display": null,
            "left": null
          }
        },
        "c70c9c9572314282b65990b91aab56b1": {
          "model_module": "@jupyter-widgets/base",
          "model_name": "LayoutModel",
          "state": {
            "_view_name": "LayoutView",
            "grid_template_rows": null,
            "right": null,
            "justify_content": null,
            "_view_module": "@jupyter-widgets/base",
            "overflow": null,
            "_model_module_version": "1.2.0",
            "_view_count": null,
            "flex_flow": null,
            "width": null,
            "min_width": null,
            "border": null,
            "align_items": null,
            "bottom": null,
            "_model_module": "@jupyter-widgets/base",
            "top": null,
            "grid_column": null,
            "overflow_y": null,
            "overflow_x": null,
            "grid_auto_flow": null,
            "grid_area": null,
            "grid_template_columns": null,
            "flex": null,
            "_model_name": "LayoutModel",
            "justify_items": null,
            "grid_row": null,
            "max_height": null,
            "align_content": null,
            "visibility": null,
            "align_self": null,
            "height": null,
            "min_height": null,
            "padding": null,
            "grid_auto_rows": null,
            "grid_gap": null,
            "max_width": null,
            "order": null,
            "_view_module_version": "1.2.0",
            "grid_template_areas": null,
            "object_position": null,
            "object_fit": null,
            "grid_auto_columns": null,
            "margin": null,
            "display": null,
            "left": null
          }
        },
        "9ab0d0f6ccaf4be88e71e16b0b6588e6": {
          "model_module": "@jupyter-widgets/controls",
          "model_name": "VBoxModel",
          "state": {
            "_view_name": "VBoxView",
            "_dom_classes": [
              "widget-interact"
            ],
            "_model_name": "VBoxModel",
            "_view_module": "@jupyter-widgets/controls",
            "_model_module_version": "1.5.0",
            "_view_count": null,
            "_view_module_version": "1.5.0",
            "box_style": "",
            "layout": "IPY_MODEL_4ebbe5d37b5144a483827594f4d229b0",
            "_model_module": "@jupyter-widgets/controls",
            "children": [
              "IPY_MODEL_aa580cfd2de14ca0946fa5f8f571e860",
              "IPY_MODEL_773b22488edd47cbbae9495a5f934802"
            ]
          }
        },
        "4ebbe5d37b5144a483827594f4d229b0": {
          "model_module": "@jupyter-widgets/base",
          "model_name": "LayoutModel",
          "state": {
            "_view_name": "LayoutView",
            "grid_template_rows": null,
            "right": null,
            "justify_content": null,
            "_view_module": "@jupyter-widgets/base",
            "overflow": null,
            "_model_module_version": "1.2.0",
            "_view_count": null,
            "flex_flow": null,
            "width": null,
            "min_width": null,
            "border": null,
            "align_items": null,
            "bottom": null,
            "_model_module": "@jupyter-widgets/base",
            "top": null,
            "grid_column": null,
            "overflow_y": null,
            "overflow_x": null,
            "grid_auto_flow": null,
            "grid_area": null,
            "grid_template_columns": null,
            "flex": null,
            "_model_name": "LayoutModel",
            "justify_items": null,
            "grid_row": null,
            "max_height": null,
            "align_content": null,
            "visibility": null,
            "align_self": null,
            "height": null,
            "min_height": null,
            "padding": null,
            "grid_auto_rows": null,
            "grid_gap": null,
            "max_width": null,
            "order": null,
            "_view_module_version": "1.2.0",
            "grid_template_areas": null,
            "object_position": null,
            "object_fit": null,
            "grid_auto_columns": null,
            "margin": null,
            "display": null,
            "left": null
          }
        },
        "aa580cfd2de14ca0946fa5f8f571e860": {
          "model_module": "@jupyter-widgets/controls",
          "model_name": "IntSliderModel",
          "state": {
            "_view_name": "IntSliderView",
            "style": "IPY_MODEL_29f590d06432486f8009f0cc9a218e93",
            "_dom_classes": [],
            "description": "temp",
            "step": 1,
            "_model_name": "IntSliderModel",
            "orientation": "horizontal",
            "max": 295,
            "_view_module": "@jupyter-widgets/controls",
            "_model_module_version": "1.5.0",
            "value": 181,
            "_view_count": null,
            "disabled": false,
            "_view_module_version": "1.5.0",
            "min": 70,
            "continuous_update": true,
            "readout_format": "d",
            "description_tooltip": null,
            "readout": true,
            "_model_module": "@jupyter-widgets/controls",
            "layout": "IPY_MODEL_da15f5f895374e918c6d921047adb718"
          }
        },
        "773b22488edd47cbbae9495a5f934802": {
          "model_module": "@jupyter-widgets/output",
          "model_name": "OutputModel",
          "state": {
            "_view_name": "OutputView",
            "msg_id": "",
            "_dom_classes": [],
            "_model_name": "OutputModel",
            "outputs": [
              {
                "output_type": "display_data",
                "metadata": {
                  "tags": [],
                  "needs_background": "light"
                },
                "image/png": "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\n",
                "text/plain": "<Figure size 432x288 with 1 Axes>"
              }
            ],
            "_view_module": "@jupyter-widgets/output",
            "_model_module_version": "1.0.0",
            "_view_count": null,
            "_view_module_version": "1.0.0",
            "layout": "IPY_MODEL_c0424ebd85234b308bc779b83867a0e0",
            "_model_module": "@jupyter-widgets/output"
          }
        },
        "29f590d06432486f8009f0cc9a218e93": {
          "model_module": "@jupyter-widgets/controls",
          "model_name": "SliderStyleModel",
          "state": {
            "_view_name": "StyleView",
            "handle_color": null,
            "_model_name": "SliderStyleModel",
            "description_width": "",
            "_view_module": "@jupyter-widgets/base",
            "_model_module_version": "1.5.0",
            "_view_count": null,
            "_view_module_version": "1.2.0",
            "_model_module": "@jupyter-widgets/controls"
          }
        },
        "da15f5f895374e918c6d921047adb718": {
          "model_module": "@jupyter-widgets/base",
          "model_name": "LayoutModel",
          "state": {
            "_view_name": "LayoutView",
            "grid_template_rows": null,
            "right": null,
            "justify_content": null,
            "_view_module": "@jupyter-widgets/base",
            "overflow": null,
            "_model_module_version": "1.2.0",
            "_view_count": null,
            "flex_flow": null,
            "width": null,
            "min_width": null,
            "border": null,
            "align_items": null,
            "bottom": null,
            "_model_module": "@jupyter-widgets/base",
            "top": null,
            "grid_column": null,
            "overflow_y": null,
            "overflow_x": null,
            "grid_auto_flow": null,
            "grid_area": null,
            "grid_template_columns": null,
            "flex": null,
            "_model_name": "LayoutModel",
            "justify_items": null,
            "grid_row": null,
            "max_height": null,
            "align_content": null,
            "visibility": null,
            "align_self": null,
            "height": null,
            "min_height": null,
            "padding": null,
            "grid_auto_rows": null,
            "grid_gap": null,
            "max_width": null,
            "order": null,
            "_view_module_version": "1.2.0",
            "grid_template_areas": null,
            "object_position": null,
            "object_fit": null,
            "grid_auto_columns": null,
            "margin": null,
            "display": null,
            "left": null
          }
        },
        "c0424ebd85234b308bc779b83867a0e0": {
          "model_module": "@jupyter-widgets/base",
          "model_name": "LayoutModel",
          "state": {
            "_view_name": "LayoutView",
            "grid_template_rows": null,
            "right": null,
            "justify_content": null,
            "_view_module": "@jupyter-widgets/base",
            "overflow": null,
            "_model_module_version": "1.2.0",
            "_view_count": null,
            "flex_flow": null,
            "width": null,
            "min_width": null,
            "border": null,
            "align_items": null,
            "bottom": null,
            "_model_module": "@jupyter-widgets/base",
            "top": null,
            "grid_column": null,
            "overflow_y": null,
            "overflow_x": null,
            "grid_auto_flow": null,
            "grid_area": null,
            "grid_template_columns": null,
            "flex": null,
            "_model_name": "LayoutModel",
            "justify_items": null,
            "grid_row": null,
            "max_height": null,
            "align_content": null,
            "visibility": null,
            "align_self": null,
            "height": null,
            "min_height": null,
            "padding": null,
            "grid_auto_rows": null,
            "grid_gap": null,
            "max_width": null,
            "order": null,
            "_view_module_version": "1.2.0",
            "grid_template_areas": null,
            "object_position": null,
            "object_fit": null,
            "grid_auto_columns": null,
            "margin": null,
            "display": null,
            "left": null
          }
        }
      }
    }
  },
  "cells": [
    {
      "cell_type": "markdown",
      "metadata": {
        "id": "view-in-github",
        "colab_type": "text"
      },
      "source": [
        "<a href=\"https://colab.research.google.com/github/yohanesnuwara/pyresim/blob/master/PyReSim_PVT_GUI.ipynb\" target=\"_parent\"><img src=\"https://colab.research.google.com/assets/colab-badge.svg\" alt=\"Open In Colab\"/></a>"
      ]
    },
    {
      "cell_type": "markdown",
      "metadata": {
        "id": "Tzce613oA_x4",
        "colab_type": "text"
      },
      "source": [
        "# PyReSim (Python Reservoir Simulation) PVT GUI\n",
        "\n",
        "Gas, oil, and water PVT correlations Guided User Interface (GUI)\n",
        "\n",
        "@author: Yohanes Nuwara<br>\n",
        "@email: ign.nuwara97@gmail.com"
      ]
    },
    {
      "cell_type": "code",
      "metadata": {
        "id": "d4kh4gAk9WR3",
        "colab_type": "code",
        "colab": {}
      },
      "source": [
        "import numpy as np\n",
        "import matplotlib.pyplot as plt\n",
        "import pandas as pd\n",
        "\n",
        "from __future__ import print_function\n",
        "from ipywidgets import interact, interactive, fixed, interact_manual, ToggleButtons\n",
        "import ipywidgets as widgets"
      ],
      "execution_count": null,
      "outputs": []
    },
    {
      "cell_type": "code",
      "metadata": {
        "id": "f2CirplP9ohX",
        "colab_type": "code",
        "colab": {
          "base_uri": "https://localhost:8080/",
          "height": 138
        },
        "outputId": "26a4ab9e-0f44-458b-9849-7a8887d0ce4c"
      },
      "source": [
        "!git clone https://github.com/yohanesnuwara/pyresim\n",
        "\n",
        "import sys\n",
        "sys.path.append('/content/pyresim/functions')\n",
        "\n",
        "from pvt_correlation import *"
      ],
      "execution_count": null,
      "outputs": [
        {
          "output_type": "stream",
          "text": [
            "Cloning into 'pyresim'...\n",
            "remote: Enumerating objects: 227, done.\u001b[K\n",
            "remote: Counting objects: 100% (227/227), done.\u001b[K\n",
            "remote: Compressing objects: 100% (226/226), done.\u001b[K\n",
            "remote: Total 1258 (delta 142), reused 0 (delta 0), pack-reused 1031\u001b[K\n",
            "Receiving objects: 100% (1258/1258), 713.18 KiB | 967.00 KiB/s, done.\n",
            "Resolving deltas: 100% (767/767), done.\n"
          ],
          "name": "stdout"
        }
      ]
    },
    {
      "cell_type": "markdown",
      "metadata": {
        "id": "AYg9BgXxA4CC",
        "colab_type": "text"
      },
      "source": [
        "## Gas\n",
        "\n",
        "Input to gas PVT are:\n",
        "\n",
        "* `pressure`: Pressure (psia)\n",
        "* `temp`: Temperature (°F)\n",
        "* `sg`: Specific gravity\n",
        "* `x_h2s`: H2S mole fraction in gas\n",
        "* `x_co2`: CO2 mole fraction in gas"
      ]
    },
    {
      "cell_type": "markdown",
      "metadata": {
        "id": "f6myAsGbhJog",
        "colab_type": "text"
      },
      "source": [
        "### PVT Calculator"
      ]
    },
    {
      "cell_type": "code",
      "metadata": {
        "id": "hP99J3dLAnyV",
        "colab_type": "code",
        "colab": {
          "base_uri": "https://localhost:8080/",
          "height": 276
        },
        "outputId": "070f83fc-9147-43b7-823d-3fdc27a72e74"
      },
      "source": [
        "\"\"\"\n",
        "INPUT\n",
        "\"\"\"\n",
        "\n",
        "pressure = 2200 # psi\n",
        "temp = 80 # Fahrenheit\n",
        "sg = 0.7 # specific gravity\n",
        "x_h2s = 0.05 # mole fraction of H2S in gas\n",
        "x_co2 = 0.16 # mole fraction of CO2 in gas\n",
        "\n",
        "\"\"\"\n",
        "CALCULATOR\n",
        "\"\"\"\n",
        "\n",
        "# calculate pseudoproperties using Sutton (1985), Wichert and Aziz (1972)\n",
        "P_pc, T_pc, P_pr, T_pr = gas_pseudoprops(temp, pressure, sg, x_h2s, x_co2)\n",
        "\n",
        "# calculate z-factor using Dranchuk-Aboukassem (1975)\n",
        "pseudo_rho, z_factor = gas_zfactor(T_pr, P_pr)\n",
        "\n",
        "# calculate density\n",
        "rhogas = gas_density(temp, pressure, sg, z_factor)\n",
        "\n",
        "# calculate gas FVF\n",
        "Bg = gas_fvf(z_factor, temp, pressure)\n",
        "\n",
        "# calculate isothermal compressibility using Trube (1957) and Mattar (1975)\n",
        "cgas = gas_compressibility(T_pr, P_pr, pseudo_rho, z_factor, P_pc)\n",
        "\n",
        "# calculate viscosity using Lee et al (1966)\n",
        "viscogas = gas_mu(temp, rhogas, sg)\n",
        "\n",
        "print('=== Gas PVT Correlation Calculator === \\n')\n",
        "print('Your Input:')\n",
        "print('Pressure: {} psia'.format(pressure))\n",
        "print('Temperature: {} °F'.format(temp))\n",
        "print('Specific Gravity: {}'.format(sg))\n",
        "print('H2S Mole Fraction: {}'.format(x_h2s))\n",
        "print('CO2 Mole Fraction: {} \\n'.format(x_co2))\n",
        "\n",
        "print('PVT Output:')\n",
        "print('z-factor (Dranchuk-Aboukassem, 1975): {}'.format(z_factor))\n",
        "print('Density: {} lb/ft3'.format(rhogas))\n",
        "print('FVF: {} res ft3/scf'.format(Bg))\n",
        "print('Isothermal compressibility (Trube, 1957; Mattar, 1975): {} microsip'.format(cgas * 1E+6))\n",
        "print('Viscosity (Lee et al, 1966): {} cp'.format(viscogas))"
      ],
      "execution_count": null,
      "outputs": [
        {
          "output_type": "stream",
          "text": [
            "=== Gas PVT Correlation Calculator === \n",
            "\n",
            "Your Input:\n",
            "Pressure: 2200 psia\n",
            "Temperature: 80 °F\n",
            "Specific Gravity: 0.7\n",
            "H2S Mole Fraction: 0.05\n",
            "CO2 Mole Fraction: 0.16 \n",
            "\n",
            "PVT Output:\n",
            "z-factor (Dranchuk-Aboukassem, 1975): 0.7838763704841918\n",
            "Density: 9.826813243351449 lb/ft3\n",
            "FVF: 0.005437782389502583 res ft3/scf\n",
            "Isothermal compressibility (Trube, 1957; Mattar, 1975): 435.56613399411094 microsip\n",
            "Viscosity (Lee et al, 1966): 0.01726394862816872 cp\n"
          ],
          "name": "stdout"
        }
      ]
    },
    {
      "cell_type": "markdown",
      "metadata": {
        "id": "MNt20U5nW0SU",
        "colab_type": "text"
      },
      "source": [
        "### Compressibility (z) Factor - interactive"
      ]
    },
    {
      "cell_type": "code",
      "metadata": {
        "id": "YvE19E1jASIJ",
        "colab_type": "code",
        "colab": {
          "base_uri": "https://localhost:8080/",
          "height": 429,
          "referenced_widgets": [
            "14af8458b6834a8ead209791fa1ae013",
            "5b0e5c79a8a545839f87bb531c8e85d9",
            "f067234638b64ae2a56162bed3690ac8",
            "cb140a1eb26c42c0bfc27b1c2e3f3f1d",
            "e89b481be9be40aeae559acd65a3ee92",
            "a4ff41bb2cb148c3a136b09a79958e40",
            "e16ae9db81364cca9bed30f05fccdca8",
            "166ae60c1a4e40c69f474583de6e1e9c",
            "6a489baf5bb941c2ba747c1af0748eba",
            "29bee5eca20a4f909fc0ce31e3a66e75",
            "99af7b6567674bc38bf7028d8730440e",
            "8539617072ef421ea78249e878bf93aa",
            "5c4efad2c316499a9ef385beb54ebe73",
            "5df399dfdd7c4cf4a6176ff5297e53eb",
            "89e67111cd03418b8244bf5d1a76f7cd",
            "c1d1ec89eb3a48ad9f04fb355ee33a31"
          ]
        },
        "outputId": "1b69d187-10f5-4402-8a37-150cb5724072"
      },
      "source": [
        "@interact\n",
        "\n",
        "def interactive_gas_zfactor(temp=(110, 572), sg=(0.57, 1.4), x_h2s=(0, 0.4), \n",
        "                            x_co2=(0, 0.4)):\n",
        "  \n",
        "  pressure = np.linspace(50, 5000, 451)\n",
        "\n",
        "  # calculate pseudoproperties using Sutton (1985), Wichert and Aziz (1972)\n",
        "  P_pc = []; P_pr = []\n",
        "  for i in range(len(pressure)):\n",
        "    P_pc_, T_pc_, P_pr_, T_pr = gas_pseudoprops(temp, pressure[i], sg, x_h2s, x_co2)\n",
        "    P_pc.append(P_pc_)\n",
        "    P_pr.append(P_pr_)\n",
        "\n",
        "  # calculate z-factor using Dranchuk-Aboukassem (1975)\n",
        "  z_factor = []\n",
        "  for j in range(len(P_pr)):\n",
        "    pseudo_rho, z_ = gas_zfactor(T_pr, P_pr[j])\n",
        "    z_factor.append(z_)\n",
        "  \n",
        "  # plot z-factor vs pressure\n",
        "  plt.plot(pressure, z_factor, color='red')\n",
        "  plt.xlim(min(pressure), max(pressure))\n",
        "  plt.ylim(0.4, 1.4)\n",
        "  plt.title('Plot of Gas z-factor vs Pressure', size=15, pad=10)\n",
        "  plt.xlabel('Pressure (psig)')\n",
        "  plt.ylabel('z-factor')\n",
        "\n",
        "  plt.grid()\n",
        "  plt.show()"
      ],
      "execution_count": null,
      "outputs": [
        {
          "output_type": "display_data",
          "data": {
            "application/vnd.jupyter.widget-view+json": {
              "model_id": "14af8458b6834a8ead209791fa1ae013",
              "version_minor": 0,
              "version_major": 2
            },
            "text/plain": [
              "interactive(children=(IntSlider(value=341, description='temp', max=572, min=110), FloatSlider(value=0.98499999…"
            ]
          },
          "metadata": {
            "tags": []
          }
        }
      ]
    },
    {
      "cell_type": "markdown",
      "metadata": {
        "id": "vBVzXQm8wqNT",
        "colab_type": "text"
      },
      "source": [
        "### Density - interactive"
      ]
    },
    {
      "cell_type": "code",
      "metadata": {
        "id": "sD5ANzXAwt9l",
        "colab_type": "code",
        "colab": {}
      },
      "source": [
        "@interact\n",
        "\n",
        "def interactive_gas_density(temp=(110, 572), sg=(0.57, 1.4), x_h2s=(0, 0.4), \n",
        "                            x_co2=(0, 0.4)):\n",
        "  \n",
        "  pressure = np.linspace(50, 5000, 451)\n",
        "\n",
        "  # calculate pseudoproperties using Sutton (1985), Wichert and Aziz (1972)\n",
        "  P_pc = []; P_pr = []\n",
        "  for i in range(len(pressure)):\n",
        "    P_pc_, T_pc_, P_pr_, T_pr = gas_pseudoprops(temp, pressure[i], sg, x_h2s, x_co2)\n",
        "    P_pc.append(P_pc_)\n",
        "    P_pr.append(P_pr_)\n",
        "\n",
        "  # calculate z-factor using Dranchuk-Aboukassem (1975)\n",
        "  z_factor = []\n",
        "  for j in range(len(P_pr)):\n",
        "    pseudo_rho, z_ = gas_zfactor(T_pr, P_pr[j])\n",
        "    z_factor.append(z_)    \n",
        "  \n",
        "  # calculate density\n",
        "  rhogas = []\n",
        "  for k in range(len(z_factor)):\n",
        "    rhogas_ = gas_density(temp, pressure[k], sg, z_factor[k])\n",
        "    rhogas.append(rhogas_)\n",
        "  \n",
        "  # plot density vs pressure\n",
        "  plt.plot(pressure, rhogas, color='blue')\n",
        "  plt.xlim(min(pressure), max(pressure))\n",
        "  plt.ylim(0, 35)\n",
        "  plt.title('Plot of Gas Density vs Pressure', size=15, pad=10)\n",
        "  plt.xlabel('Pressure (psig)')\n",
        "  plt.ylabel('Density (lbm/ft3)')\n",
        "\n",
        "  plt.grid()\n",
        "  plt.show()"
      ],
      "execution_count": null,
      "outputs": []
    },
    {
      "cell_type": "markdown",
      "metadata": {
        "id": "MmanxGlzeIMM",
        "colab_type": "text"
      },
      "source": [
        "### Gas FVF - interactive"
      ]
    },
    {
      "cell_type": "code",
      "metadata": {
        "id": "Quh-M65g8kq8",
        "colab_type": "code",
        "colab": {}
      },
      "source": [
        "@interact\n",
        "\n",
        "def interactive_gas_fvf(temp=(110, 572), sg=(0.57, 1.4), x_h2s=(0, 0.4), \n",
        "                        x_co2=(0, 0.4)):\n",
        "  \n",
        "  pressure = np.linspace(50, 5000, 451)\n",
        "\n",
        "  # calculate pseudoproperties using Sutton (1985), Wichert and Aziz (1972)\n",
        "  P_pc = []; P_pr = []\n",
        "  for i in range(len(pressure)):\n",
        "    P_pc_, T_pc_, P_pr_, T_pr = gas_pseudoprops(temp, pressure[i], sg, x_h2s, x_co2)\n",
        "    P_pc.append(P_pc_)\n",
        "    P_pr.append(P_pr_)\n",
        "\n",
        "  # calculate z-factor using Dranchuk-Aboukassem (1975)\n",
        "  z_factor = []\n",
        "  for j in range(len(P_pr)):\n",
        "    pseudo_rho, z_ = gas_zfactor(T_pr, P_pr[j])\n",
        "    z_factor.append(z_)\n",
        "  \n",
        "  # calculate gas FVF\n",
        "  Bg = []\n",
        "  for k in range(len(pressure)):\n",
        "    Bg_ = gas_fvf(z_factor[k], temp, pressure[k])\n",
        "    Bg.append(Bg_)\n",
        "  \n",
        "  # plot gas FVF vs pressure\n",
        "  plt.plot(pressure, Bg, color='purple')\n",
        "  plt.xlim(min(pressure), max(pressure))\n",
        "  plt.ylim(0, 0.6)\n",
        "  plt.title('Plot of Gas FVF vs Pressure', size=15, pad=10)\n",
        "  plt.xlabel('Pressure (psig)')\n",
        "  plt.ylabel('Gas FVF (res ft3/scf)')\n",
        "\n",
        "  plt.grid()\n",
        "  plt.show()  "
      ],
      "execution_count": null,
      "outputs": []
    },
    {
      "cell_type": "markdown",
      "metadata": {
        "id": "lxJz1senhfpx",
        "colab_type": "text"
      },
      "source": [
        "### Gas Isothermal Compressibility - interactive"
      ]
    },
    {
      "cell_type": "code",
      "metadata": {
        "id": "qeh4JiV0hiId",
        "colab_type": "code",
        "colab": {}
      },
      "source": [
        "@interact\n",
        "\n",
        "def interactive_gas_compressibility(temp=(110, 572), sg=(0.57, 1.4), \n",
        "                                    x_h2s=(0, 0.4), x_co2=(0, 0.4)):\n",
        "  \n",
        "  pressure = np.linspace(50, 5000, 451)\n",
        "\n",
        "  # calculate pseudoproperties using Sutton (1985), Wichert and Aziz (1972)\n",
        "  P_pc = []; P_pr = []\n",
        "  for i in range(len(pressure)):\n",
        "    P_pc_, T_pc_, P_pr_, T_pr = gas_pseudoprops(temp, pressure[i], sg, x_h2s, x_co2)\n",
        "    P_pc.append(P_pc_)\n",
        "    P_pr.append(P_pr_)\n",
        "\n",
        "  # calculate pseudo-reduced density and z-factor using Dranchuk-Aboukassem (1975)\n",
        "  pseudo_rho = []; z_factor = []\n",
        "  for j in range(len(P_pr)):\n",
        "    pseudo_rho_, z_ = gas_zfactor(T_pr, P_pr[j])\n",
        "    pseudo_rho.append(pseudo_rho_)\n",
        "    z_factor.append(z_)\n",
        "\n",
        "  # calculate isothermal compressibility using Trube (1957) and Mattar (1975)\n",
        "  cgas = []\n",
        "  for k in range(len(P_pr)):\n",
        "    cgas_ = gas_compressibility(T_pr, P_pr[k], pseudo_rho[k], z_factor[k], P_pc[k])\n",
        "    cgas.append(cgas_)\n",
        "  \n",
        "  # plot compressibility vs pressure\n",
        "  plt.plot(pressure, (np.array(cgas) * 1E+6), color='blue')\n",
        "  plt.xlim(min(pressure), max(pressure))\n",
        "  plt.title('Plot of Gas Compressibility vs Pressure', size=15, pad=10)\n",
        "  plt.xlabel('Pressure (psig)')\n",
        "  plt.ylabel('Compressibility (microsip)')\n",
        "\n",
        "  plt.grid()\n",
        "  plt.show()"
      ],
      "execution_count": null,
      "outputs": []
    },
    {
      "cell_type": "markdown",
      "metadata": {
        "id": "bjgI5Vj6yK4K",
        "colab_type": "text"
      },
      "source": [
        "### Gas Viscosity - interactive"
      ]
    },
    {
      "cell_type": "code",
      "metadata": {
        "id": "VlsTvbJW0fgW",
        "colab_type": "code",
        "colab": {}
      },
      "source": [
        "@interact\n",
        "\n",
        "def interactive_gas_viscosity(temp=(110, 572), sg=(0.57, 1.4), x_h2s=(0, 0.4), \n",
        "                              x_co2=(0, 0.4)):\n",
        "  \n",
        "  pressure = np.linspace(50, 5000, 451)\n",
        "\n",
        "  # calculate pseudoproperties using Sutton (1985), Wichert and Aziz (1972)\n",
        "  P_pc = []; P_pr = []\n",
        "  for i in range(len(pressure)):\n",
        "    P_pc_, T_pc_, P_pr_, T_pr = gas_pseudoprops(temp, pressure[i], sg, x_h2s, x_co2)\n",
        "    P_pc.append(P_pc_)\n",
        "    P_pr.append(P_pr_)\n",
        "\n",
        "  # calculate z-factor using Dranchuk-Aboukassem (1975)\n",
        "  z_factor = []\n",
        "  for j in range(len(P_pr)):\n",
        "    pseudo_rho, z_ = gas_zfactor(T_pr, P_pr[j])\n",
        "    z_factor.append(z_)    \n",
        "  \n",
        "  # calculate density\n",
        "  rhogas = []\n",
        "  for k in range(len(z_factor)):\n",
        "    rhogas_ = gas_density(temp, pressure[k], sg, z_factor[k])\n",
        "    rhogas.append(rhogas_)\n",
        "  \n",
        "  # calculate viscosity using Lee et al (1966)\n",
        "  viscogas = []\n",
        "  for m in range(len(rhogas)):\n",
        "    viscogas_ = gas_mu(temp, rhogas[m], sg)\n",
        "    viscogas.append(viscogas_)\n",
        "  \n",
        "  # plot viscosity vs pressure\n",
        "  plt.plot(pressure, viscogas, color='black')\n",
        "  plt.xlim(min(pressure), max(pressure))\n",
        "  plt.ylim(0, 0.09)\n",
        "  plt.title('Plot of Gas Viscosity vs Pressure', size=15, pad=10)\n",
        "  plt.xlabel('Pressure (psig)')\n",
        "  plt.ylabel('Viscosity (cp)')\n",
        "\n",
        "  plt.grid()\n",
        "  plt.show()"
      ],
      "execution_count": null,
      "outputs": []
    },
    {
      "cell_type": "markdown",
      "metadata": {
        "id": "gzYBZOp5SgmA",
        "colab_type": "text"
      },
      "source": [
        "## Oil\n",
        "\n",
        "Input to oil PVT are:\n",
        "\n",
        "* `pressure`: Pressure (psia)\n",
        "* `temp`: Temperature (°F)\n",
        "* `sg`: Specific gravity\n",
        "* `Rsb`: Solution gas-oil ratio at bubble-point pressure (scf/STB) (from PVT data)\n",
        "* `api`: Oil gravity (API)"
      ]
    },
    {
      "cell_type": "markdown",
      "metadata": {
        "id": "gVDMeaW6xq_B",
        "colab_type": "text"
      },
      "source": [
        "### PVT Calculator"
      ]
    },
    {
      "cell_type": "code",
      "metadata": {
        "id": "YT_El5Shxsqw",
        "colab_type": "code",
        "colab": {
          "base_uri": "https://localhost:8080/",
          "height": 276
        },
        "outputId": "9337521f-4c12-4626-febf-cb27c09295f7"
      },
      "source": [
        "\"\"\"\n",
        "INPUT\n",
        "\"\"\"\n",
        "\n",
        "pressure = 1900 # psi\n",
        "temp = 310 # Fahrenheit\n",
        "sg = 0.77 # specific gravity\n",
        "Rsb = 800 # solution gas-oil ratio at bubble-point pressure (scf/STB) (from PVT data)\n",
        "api = 38 # oil gravity (API)\n",
        "\n",
        "\"\"\"\n",
        "CALCULATOR\n",
        "\"\"\"\n",
        "\n",
        "# calculate bubble-point pressure using Vasquez and Beggs (1980)\n",
        "pbubble = oil_pbubble(Rsb, sg, api, temp)\n",
        "\n",
        "# calculate isothermal compressibility using Vazquez and Beggs (1980); McCain et al (1988)\n",
        "coil = oil_compressibility(pressure, pbubble, temp, api, Rsb, sg)\n",
        "\n",
        "# calculate FVF using Vazquez and Beggs (1980); Levitan and Murtha (1999)\n",
        "Bo = oil_fvf(pbubble, api, Rsb, sg, temp, pressure)\n",
        "\n",
        "# calculate gas-oil ratio using Vazquez and Beggs (1980)\n",
        "Rs = gasoilratio(pressure, pbubble, sg, api, temp, Rsb)\n",
        "\n",
        "# calculate gas-oil ratio using Vazquez and Beggs (1980); Beggs and Robinson (1975)\n",
        "viscooil = oil_mu(pressure, pbubble, sg, api, temp, Rsb)\n",
        "\n",
        "print('=== Oil PVT Correlation Calculator === \\n')\n",
        "print('Your Input:')\n",
        "print('Pressure: {} psia'.format(pressure))\n",
        "print('Temperature: {} °F'.format(temp))\n",
        "print('Specific Gravity: {}'.format(sg))\n",
        "print('Gas-oil ratio @ Bubble-point pressure: {} scf/STB'.format(Rsb))\n",
        "print('Oil gravity: {} API \\n'.format(api))\n",
        "\n",
        "print('PVT Output:')\n",
        "print('Bubble-point Pressure (Vasquez and Beggs, 1980): {} psi'.format(pbubble))\n",
        "print('Gas-oil ratio (Vasquez and Beggs, 1980): {} scf/STB'.format(Rs))\n",
        "print('FVF (Vazquez and Beggs, 1980; Levitan and Murtha, 1999): {} RB/STB'.format(Bo))\n",
        "print('Isothermal compressibility (Vasquez and Beggs, 1980): {} microsip'.format(coil * 1E+6))\n",
        "print('Viscosity (Vazquez and Beggs, 1980; Beggs and Robinson, 1975): {} cp'.format(viscooil))"
      ],
      "execution_count": null,
      "outputs": [
        {
          "output_type": "stream",
          "text": [
            "=== Oil PVT Correlation Calculator === \n",
            "\n",
            "Your Input:\n",
            "Pressure: 1900 psia\n",
            "Temperature: 310 °F\n",
            "Specific Gravity: 0.77\n",
            "Gas-oil ratio @ Bubble-point pressure: 800 scf/STB\n",
            "Oil gravity: 38 API \n",
            "\n",
            "PVT Output:\n",
            "Bubble-point Pressure (Vasquez and Beggs, 1980): 3828.485471648363 psi\n",
            "Gas-oil ratio (Vasquez and Beggs, 1980): 348.27111660255684 scf/STB\n",
            "FVF (Vazquez and Beggs, 1980; Levitan and Murtha, 1999): 1.3041017875410919 RB/STB\n",
            "Isothermal compressibility (Vasquez and Beggs, 1980): 61.009423965846686 microsip\n",
            "Viscosity (Vazquez and Beggs, 1980; Beggs and Robinson, 1975): 0.36673292316547934 cp\n"
          ],
          "name": "stdout"
        }
      ]
    },
    {
      "cell_type": "markdown",
      "metadata": {
        "id": "dODZVJmLSjNT",
        "colab_type": "text"
      },
      "source": [
        "### Oil Bubble-point Pressure - interactive"
      ]
    },
    {
      "cell_type": "code",
      "metadata": {
        "id": "zMiNDArzUDZs",
        "colab_type": "code",
        "colab": {}
      },
      "source": [
        "@interact\n",
        "\n",
        "def interactive_oil_pbubble(Rsb=(20, 2070), sg=(0.56, 1.18), api=(16, 58)):\n",
        "  \n",
        "  temp = np.linspace(70, 295, 100)\n",
        "\n",
        "  # calculate bubble-point pressure using Vasquez and Beggs (1980)\n",
        "  pbubble = []\n",
        "  for i in range(len(temp)):\n",
        "    pb = oil_pbubble(Rsb, sg, api, temp[i])\n",
        "    pbubble.append(pb)\n",
        "  \n",
        "  # plot bubble-point pressure vs temperature\n",
        "  plt.plot(temp, pbubble, color='blue')\n",
        "  plt.xlim(min(temp), max(temp))\n",
        "  plt.ylim(50, 24000)\n",
        "  plt.title('Plot of Oil Bubble-point Pressure vs Temperature', size=15, pad=10)\n",
        "  plt.xlabel('Temperature (°F)')\n",
        "  plt.ylabel('Bubble-point Pressure (psia)')\n",
        "\n",
        "  plt.grid()\n",
        "  plt.show()"
      ],
      "execution_count": null,
      "outputs": []
    },
    {
      "cell_type": "markdown",
      "metadata": {
        "id": "wpXZdqO7lcUU",
        "colab_type": "text"
      },
      "source": [
        "### Oil Isothermal Compressibility - interactive"
      ]
    },
    {
      "cell_type": "code",
      "metadata": {
        "id": "jz4Zr6G9lf6f",
        "colab_type": "code",
        "colab": {}
      },
      "source": [
        "@interact\n",
        "\n",
        "def interactive_oil_compressibility(Rsb=(20, 2070), sg=(0.56, 1.18), api=(16, 58),\n",
        "                                    temp=(70, 295)):\n",
        "  \n",
        "  pressure = np.linspace(50, 5000, 451)\n",
        "\n",
        "  # calculate bubble-point pressure using Vasquez and Beggs (1980)\n",
        "  pbubble = oil_pbubble(Rsb, sg, api, temp)\n",
        "\n",
        "  # calculate isothermal compressibility using Vazquez and Beggs (1980); McCain et al (1988)\n",
        "  coil = []\n",
        "  for i in range(len(pressure)):\n",
        "    coil_ = oil_compressibility(pressure[i], pbubble, temp, api, Rsb, sg)\n",
        "    coil.append(coil_)\n",
        "  \n",
        "  # plot oil FVF vs pressure \n",
        "  plt.plot(pressure, (np.array(coil) * 1E+06), color='green')\n",
        "  plt.xlim(min(pressure), max(pressure))\n",
        "  plt.ylim(0, 4000)\n",
        "  plt.title('Plot of Oil Compressibility vs Pressure', size=15, pad=10)\n",
        "  plt.xlabel('Pressure (psia)')\n",
        "  plt.ylabel('Oil compressibility (microsip)')\n",
        "\n",
        "  plt.grid()\n",
        "  plt.show()"
      ],
      "execution_count": null,
      "outputs": []
    },
    {
      "cell_type": "markdown",
      "metadata": {
        "id": "FpGboG61bwAO",
        "colab_type": "text"
      },
      "source": [
        "### Oil FVF - interactive"
      ]
    },
    {
      "cell_type": "code",
      "metadata": {
        "id": "hb-WEBDab6sm",
        "colab_type": "code",
        "colab": {}
      },
      "source": [
        "@interact\n",
        "\n",
        "def interactive_oil_fvf(Rsb=(20, 2070), sg=(0.56, 1.18), api=(16, 58),\n",
        "                            temp=(70, 295)):\n",
        "  \n",
        "  pressure = np.linspace(50, 5000, 451)\n",
        "\n",
        "  # calculate bubble-point pressure using Vasquez and Beggs (1980)\n",
        "  pbubble = oil_pbubble(Rsb, sg, api, temp)\n",
        "\n",
        "  # calculate FVF using Vazquez and Beggs (1980); Levitan and Murtha (1999)\n",
        "  Bo = []\n",
        "  for i in range(len(pressure)):\n",
        "    Bo_ = oil_fvf(pbubble, api, Rsb, sg, temp, pressure[i])\n",
        "    Bo.append(Bo_)\n",
        "  \n",
        "  # plot oil FVF vs pressure \n",
        "  plt.plot(pressure, Bo, color='red')\n",
        "  plt.xlim(min(pressure), max(pressure))\n",
        "  plt.ylim(1, 1.5)\n",
        "  plt.title('Plot of Oil FVF vs Pressure', size=15, pad=10)\n",
        "  plt.xlabel('Pressure (psia)')\n",
        "  plt.ylabel('Oil FVF (RB/STB)')\n",
        "\n",
        "  plt.grid()\n",
        "  plt.show()"
      ],
      "execution_count": null,
      "outputs": []
    },
    {
      "cell_type": "markdown",
      "metadata": {
        "id": "j1fuF0rplFQ1",
        "colab_type": "text"
      },
      "source": [
        "### Gas-Oil Ratio - interactive"
      ]
    },
    {
      "cell_type": "code",
      "metadata": {
        "id": "CLc0v-KDqIHz",
        "colab_type": "code",
        "colab": {
          "base_uri": "https://localhost:8080/",
          "height": 429,
          "referenced_widgets": [
            "fe45013bddf74ecabddeebb9a344dc32",
            "b25982f340a44267842e4e727fc8ee8e",
            "d086132b421f4f5f8ce4f94db35e8e61",
            "2da6d1e9296c4a239040be2e9140909c",
            "d65a56f884874cf7803b45ec66e04510",
            "72149180cdac48d2a800358222434fed",
            "3c475e9de3f249da857c3b221e65015f",
            "863eae9ecc384dd897b4e4c97ea35ce9",
            "e8ca17d18f094489a32a520556ce22c6",
            "4bf49511382445e38f3dc1756aedaa67",
            "2fd2e175c17e40668c56ec78a6f1beaf",
            "38155c500507404b9d0ba22d3e7c05fe",
            "9f1cf57b84614fff81f450daa8ffd8d6",
            "7a715b51ad804b9d91d3ea019f314f9c",
            "96cec1ead46348118625e292259de658",
            "c70c9c9572314282b65990b91aab56b1"
          ]
        },
        "outputId": "1ecad3e4-9467-4628-9b89-da957ca315bf"
      },
      "source": [
        "@interact\n",
        "\n",
        "def interactive_oil_sgor(Rsb=(20, 2070), sg=(0.56, 1.18), api=(16, 58),\n",
        "                            temp=(70, 295)):\n",
        "  \n",
        "  pressure = np.linspace(50, 5000, 451)\n",
        "\n",
        "  # calculate bubble-point pressure using Vasquez and Beggs (1980)\n",
        "  pbubble = oil_pbubble(Rsb, sg, api, temp)\n",
        "\n",
        "  # calculate gas-oil ratio using Vazquez and Beggs (1980)\n",
        "  Rs = []\n",
        "  for i in range(len(pressure)):\n",
        "    Rs_ = gasoilratio(pressure[i], pbubble, sg, api, temp, Rsb)\n",
        "    Rs.append(Rs_)\n",
        "  \n",
        "  # plot oil FVF vs pressure \n",
        "  plt.plot(pressure, Rs, color='purple')\n",
        "  plt.xlim(min(pressure), max(pressure))\n",
        "  plt.ylim(0, 2000)\n",
        "  plt.title('Plot of Gas-Oil Ratio vs Pressure', size=15, pad=10)\n",
        "  plt.xlabel('Pressure (psia)')\n",
        "  plt.ylabel('Gas-Oil Ratio (scf/STB)')\n",
        "\n",
        "  plt.grid()\n",
        "  plt.show()"
      ],
      "execution_count": null,
      "outputs": [
        {
          "output_type": "display_data",
          "data": {
            "application/vnd.jupyter.widget-view+json": {
              "model_id": "fe45013bddf74ecabddeebb9a344dc32",
              "version_minor": 0,
              "version_major": 2
            },
            "text/plain": [
              "interactive(children=(IntSlider(value=1045, description='Rsb', max=2070, min=20), FloatSlider(value=0.87, desc…"
            ]
          },
          "metadata": {
            "tags": []
          }
        }
      ]
    },
    {
      "cell_type": "markdown",
      "metadata": {
        "id": "4BV8QYZpr7TV",
        "colab_type": "text"
      },
      "source": [
        "### Oil Viscosity - interactive"
      ]
    },
    {
      "cell_type": "code",
      "metadata": {
        "id": "dBNFhLPjvhhD",
        "colab_type": "code",
        "colab": {}
      },
      "source": [
        "@interact\n",
        "\n",
        "def interactive_oil_visco(Rsb=(20, 2070), sg=(0.56, 1.18), api=(16, 58),\n",
        "                            temp=(70, 295)):\n",
        "  \n",
        "  pressure = np.linspace(50, 5000, 451)\n",
        "\n",
        "  # calculate bubble-point pressure using Vasquez and Beggs (1980)\n",
        "  pbubble = oil_pbubble(Rsb, sg, api, temp)\n",
        "\n",
        "  # calculate gas-oil ratio using Vazquez and Beggs (1980); Beggs and Robinson (1975)\n",
        "  visco = []\n",
        "  for i in range(len(pressure)):\n",
        "    visco_ = oil_mu(pressure[i], pbubble, sg, api, temp, Rsb)\n",
        "    visco.append(visco_)\n",
        "  \n",
        "  # plot oil FVF vs pressure \n",
        "  plt.plot(pressure, visco, color='green')\n",
        "  plt.xlim(min(pressure), max(pressure))\n",
        "  plt.ylim(0, 10)\n",
        "  plt.title('Plot of Oil Viscosity vs Pressure', size=15, pad=10)\n",
        "  plt.xlabel('Pressure (psia)')\n",
        "  plt.ylabel('Oil Viscosity (cp)')\n",
        "\n",
        "  plt.grid()\n",
        "  plt.show()"
      ],
      "execution_count": null,
      "outputs": []
    },
    {
      "cell_type": "markdown",
      "metadata": {
        "id": "R5Xcr1f55qGd",
        "colab_type": "text"
      },
      "source": [
        "## Water\n",
        "\n",
        "Input to water PVT are:\n",
        "\n",
        "* `pressure`: Pressure (psia)\n",
        "* `temp`: Temperature (°F)"
      ]
    },
    {
      "cell_type": "markdown",
      "metadata": {
        "id": "m34h2Cyp7GdU",
        "colab_type": "text"
      },
      "source": [
        "### PVT Calculator"
      ]
    },
    {
      "cell_type": "code",
      "metadata": {
        "id": "MxR2MEgK7JuT",
        "colab_type": "code",
        "colab": {
          "base_uri": "https://localhost:8080/",
          "height": 138
        },
        "outputId": "132c5648-a7d6-45b4-c1a2-4aadbb4b29f6"
      },
      "source": [
        "\"\"\"\n",
        "INPUT\n",
        "\"\"\"\n",
        "\n",
        "pressure = 3000 # psi\n",
        "temp = 190 # Fahrenheit\n",
        "\n",
        "\"\"\"\n",
        "CALCULATOR\n",
        "\"\"\"\n",
        "\n",
        "# calculate water FVF using McCain et al (1989)\n",
        "Bw = waterfvf(temp, pressure)\n",
        "\n",
        "print('=== Water PVT Correlation Calculator === \\n')\n",
        "print('Your Input:')\n",
        "print('Pressure: {} psia'.format(pressure))\n",
        "print('Temperature: {} °F'.format(temp))\n",
        "\n",
        "print('PVT Output:')\n",
        "print('FVF (McCain et al, 1989): {} RB/STB'.format(Bw))"
      ],
      "execution_count": null,
      "outputs": [
        {
          "output_type": "stream",
          "text": [
            "=== Water PVT Correlation Calculator === \n",
            "\n",
            "Your Input:\n",
            "Pressure: 3000 psia\n",
            "Temperature: 190 °F\n",
            "PVT Output:\n",
            "FVF (McCain et al, 1989): 1.0305404582765743 RB/STB\n"
          ],
          "name": "stdout"
        }
      ]
    },
    {
      "cell_type": "markdown",
      "metadata": {
        "id": "wExdDzvn5uzO",
        "colab_type": "text"
      },
      "source": [
        "### Water FVF - interactive"
      ]
    },
    {
      "cell_type": "code",
      "metadata": {
        "id": "SJvMMDBd5zxg",
        "colab_type": "code",
        "colab": {
          "base_uri": "https://localhost:8080/",
          "height": 333,
          "referenced_widgets": [
            "9ab0d0f6ccaf4be88e71e16b0b6588e6",
            "4ebbe5d37b5144a483827594f4d229b0",
            "aa580cfd2de14ca0946fa5f8f571e860",
            "773b22488edd47cbbae9495a5f934802",
            "29f590d06432486f8009f0cc9a218e93",
            "da15f5f895374e918c6d921047adb718",
            "c0424ebd85234b308bc779b83867a0e0"
          ]
        },
        "outputId": "5a05dd87-30d8-41e9-d4ee-a7d0df3e6a76"
      },
      "source": [
        "@interact\n",
        "\n",
        "def interactive_water_fvf(temp=(70, 295)):\n",
        "  \n",
        "  pressure = np.linspace(50, 5000, 451)\n",
        "\n",
        "  # calculate bubble-point pressure using Vasquez and Beggs (1980)\n",
        "  pbubble = oil_pbubble(Rsb, sg, api, temp)\n",
        "\n",
        "  # calculate water FVF using McCain et al (1989)\n",
        "  Bw = []\n",
        "  for i in range(len(pressure)):\n",
        "    Bw_ = waterfvf(temp, pressure[i])\n",
        "    Bw.append(Bw_)\n",
        "  \n",
        "  # plot oil FVF vs pressure \n",
        "  plt.plot(pressure, Bw, color='blue')\n",
        "  plt.xlim(min(pressure), max(pressure))\n",
        "  plt.ylim(0.98, 1.08)\n",
        "  plt.title('Plot of Water FVF vs Pressure', size=15, pad=10)\n",
        "  plt.xlabel('Pressure (psia)')\n",
        "  plt.ylabel('Water FVF (RB/STB)')\n",
        "\n",
        "  plt.grid()\n",
        "  plt.show()"
      ],
      "execution_count": null,
      "outputs": [
        {
          "output_type": "display_data",
          "data": {
            "application/vnd.jupyter.widget-view+json": {
              "model_id": "9ab0d0f6ccaf4be88e71e16b0b6588e6",
              "version_minor": 0,
              "version_major": 2
            },
            "text/plain": [
              "interactive(children=(IntSlider(value=182, description='temp', max=295, min=70), Output()), _dom_classes=('wid…"
            ]
          },
          "metadata": {
            "tags": []
          }
        }
      ]
    }
  ]
}