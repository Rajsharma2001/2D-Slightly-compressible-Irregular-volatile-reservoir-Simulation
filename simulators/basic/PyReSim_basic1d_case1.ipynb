{
  "nbformat": 4,
  "nbformat_minor": 0,
  "metadata": {
    "colab": {
      "name": "PyReSim-basic1d-case1.ipynb",
      "provenance": [],
      "collapsed_sections": [],
      "toc_visible": true,
      "authorship_tag": "ABX9TyNGTCcbRlTHlo8FzYuidV+R",
      "include_colab_link": true
    },
    "kernelspec": {
      "name": "python3",
      "display_name": "Python 3"
    }
  },
  "cells": [
    {
      "cell_type": "markdown",
      "metadata": {
        "id": "view-in-github",
        "colab_type": "text"
      },
      "source": [
        "<a href=\"https://colab.research.google.com/github/yohanesnuwara/pyresim/blob/master/simulators/basic/PyReSim_basic1d_case1.ipynb\" target=\"_parent\"><img src=\"https://colab.research.google.com/assets/colab-badge.svg\" alt=\"Open In Colab\"/></a>"
      ]
    },
    {
      "cell_type": "code",
      "metadata": {
        "id": "QuWYIwbEuoPj",
        "colab_type": "code",
        "colab": {}
      },
      "source": [
        "import numpy as np\n",
        "import matplotlib.pyplot as plt\n",
        "import pandas as pd"
      ],
      "execution_count": 1,
      "outputs": []
    },
    {
      "cell_type": "code",
      "metadata": {
        "id": "DhfY3LdeaeUy",
        "colab_type": "code",
        "colab": {
          "base_uri": "https://localhost:8080/",
          "height": 134
        },
        "outputId": "322d1410-ee17-4d6d-9628-dd534dcfb348"
      },
      "source": [
        "!git clone https://github.com/yohanesnuwara/pyresim"
      ],
      "execution_count": 2,
      "outputs": [
        {
          "output_type": "stream",
          "text": [
            "Cloning into 'pyresim'...\n",
            "remote: Enumerating objects: 255, done.\u001b[K\n",
            "remote: Counting objects:   0% (1/255)\u001b[K\rremote: Counting objects:   1% (3/255)\u001b[K\rremote: Counting objects:   2% (6/255)\u001b[K\rremote: Counting objects:   3% (8/255)\u001b[K\rremote: Counting objects:   4% (11/255)\u001b[K\rremote: Counting objects:   5% (13/255)\u001b[K\rremote: Counting objects:   6% (16/255)\u001b[K\rremote: Counting objects:   7% (18/255)\u001b[K\rremote: Counting objects:   8% (21/255)\u001b[K\rremote: Counting objects:   9% (23/255)\u001b[K\rremote: Counting objects:  10% (26/255)\u001b[K\rremote: Counting objects:  11% (29/255)\u001b[K\rremote: Counting objects:  12% (31/255)\u001b[K\rremote: Counting objects:  13% (34/255)\u001b[K\rremote: Counting objects:  14% (36/255)\u001b[K\rremote: Counting objects:  15% (39/255)\u001b[K\rremote: Counting objects:  16% (41/255)\u001b[K\rremote: Counting objects:  17% (44/255)\u001b[K\rremote: Counting objects:  18% (46/255)\u001b[K\rremote: Counting objects:  19% (49/255)\u001b[K\rremote: Counting objects:  20% (51/255)\u001b[K\rremote: Counting objects:  21% (54/255)\u001b[K\rremote: Counting objects:  22% (57/255)\u001b[K\rremote: Counting objects:  23% (59/255)\u001b[K\rremote: Counting objects:  24% (62/255)\u001b[K\rremote: Counting objects:  25% (64/255)\u001b[K\rremote: Counting objects:  26% (67/255)\u001b[K\rremote: Counting objects:  27% (69/255)\u001b[K\rremote: Counting objects:  28% (72/255)\u001b[K\rremote: Counting objects:  29% (74/255)\u001b[K\rremote: Counting objects:  30% (77/255)\u001b[K\rremote: Counting objects:  31% (80/255)\u001b[K\rremote: Counting objects:  32% (82/255)\u001b[K\rremote: Counting objects:  33% (85/255)\u001b[K\rremote: Counting objects:  34% (87/255)\u001b[K\rremote: Counting objects:  35% (90/255)\u001b[K\rremote: Counting objects:  36% (92/255)\u001b[K\rremote: Counting objects:  37% (95/255)\u001b[K\rremote: Counting objects:  38% (97/255)\u001b[K\rremote: Counting objects:  39% (100/255)\u001b[K\rremote: Counting objects:  40% (102/255)\u001b[K\rremote: Counting objects:  41% (105/255)\u001b[K\rremote: Counting objects:  42% (108/255)\u001b[K\rremote: Counting objects:  43% (110/255)\u001b[K\rremote: Counting objects:  44% (113/255)\u001b[K\rremote: Counting objects:  45% (115/255)\u001b[K\rremote: Counting objects:  46% (118/255)\u001b[K\rremote: Counting objects:  47% (120/255)\u001b[K\rremote: Counting objects:  48% (123/255)\u001b[K\rremote: Counting objects:  49% (125/255)\u001b[K\rremote: Counting objects:  50% (128/255)\u001b[K\rremote: Counting objects:  51% (131/255)\u001b[K\rremote: Counting objects:  52% (133/255)\u001b[K\rremote: Counting objects:  53% (136/255)\u001b[K\rremote: Counting objects:  54% (138/255)\u001b[K\rremote: Counting objects:  55% (141/255)\u001b[K\rremote: Counting objects:  56% (143/255)\u001b[K\rremote: Counting objects:  57% (146/255)\u001b[K\rremote: Counting objects:  58% (148/255)\u001b[K\rremote: Counting objects:  59% (151/255)\u001b[K\rremote: Counting objects:  60% (153/255)\u001b[K\rremote: Counting objects:  61% (156/255)\u001b[K\rremote: Counting objects:  62% (159/255)\u001b[K\rremote: Counting objects:  63% (161/255)\u001b[K\rremote: Counting objects:  64% (164/255)\u001b[K\rremote: Counting objects:  65% (166/255)\u001b[K\rremote: Counting objects:  66% (169/255)\u001b[K\rremote: Counting objects:  67% (171/255)\u001b[K\rremote: Counting objects:  68% (174/255)\u001b[K\rremote: Counting objects:  69% (176/255)\u001b[K\rremote: Counting objects:  70% (179/255)\u001b[K\rremote: Counting objects:  71% (182/255)\u001b[K\rremote: Counting objects:  72% (184/255)\u001b[K\rremote: Counting objects:  73% (187/255)\u001b[K\rremote: Counting objects:  74% (189/255)\u001b[K\rremote: Counting objects:  75% (192/255)\u001b[K\rremote: Counting objects:  76% (194/255)\u001b[K\rremote: Counting objects:  77% (197/255)\u001b[K\rremote: Counting objects:  78% (199/255)\u001b[K\rremote: Counting objects:  79% (202/255)\u001b[K\rremote: Counting objects:  80% (204/255)\u001b[K\rremote: Counting objects:  81% (207/255)\u001b[K\rremote: Counting objects:  82% (210/255)\u001b[K\rremote: Counting objects:  83% (212/255)\u001b[K\rremote: Counting objects:  84% (215/255)\u001b[K\rremote: Counting objects:  85% (217/255)\u001b[K\rremote: Counting objects:  86% (220/255)\u001b[K\rremote: Counting objects:  87% (222/255)\u001b[K\rremote: Counting objects:  88% (225/255)\u001b[K\rremote: Counting objects:  89% (227/255)\u001b[K\rremote: Counting objects:  90% (230/255)\u001b[K\rremote: Counting objects:  91% (233/255)\u001b[K\rremote: Counting objects:  92% (235/255)\u001b[K\rremote: Counting objects:  93% (238/255)\u001b[K\rremote: Counting objects:  94% (240/255)\u001b[K\rremote: Counting objects:  95% (243/255)\u001b[K\rremote: Counting objects:  96% (245/255)\u001b[K\rremote: Counting objects:  97% (248/255)\u001b[K\rremote: Counting objects:  98% (250/255)\u001b[K\rremote: Counting objects:  99% (253/255)\u001b[K\rremote: Counting objects: 100% (255/255)\u001b[K\rremote: Counting objects: 100% (255/255), done.\u001b[K\n",
            "remote: Compressing objects: 100% (249/249), done.\u001b[K\n",
            "remote: Total 769 (delta 143), reused 0 (delta 0), pack-reused 514\u001b[K\n",
            "Receiving objects: 100% (769/769), 258.64 KiB | 7.39 MiB/s, done.\n",
            "Resolving deltas: 100% (437/437), done.\n"
          ],
          "name": "stdout"
        }
      ]
    },
    {
      "cell_type": "code",
      "metadata": {
        "id": "EaCvRqdValSQ",
        "colab_type": "code",
        "colab": {}
      },
      "source": [
        "import sys\n",
        "sys.path.append('/content/pyresim/functions')"
      ],
      "execution_count": 3,
      "outputs": []
    },
    {
      "cell_type": "code",
      "metadata": {
        "id": "06iymSNw1WZo",
        "colab_type": "code",
        "colab": {}
      },
      "source": [
        "from input_output import read_input, read_depth\n",
        "from boundary import boundary_floweq1d\n",
        "from gridding import source1d\n",
        "from solver import lhs_coeffs1d_welltype, rhs_constant1d_welltype\n",
        "from transmissibility import transmissibility1d, transmissibility1d_boundary\n",
        "from wellblock import fraction_wellblock_geometric_factor\n",
        "from wellsimulation import solution_well1d\n",
        "from potential import potential_term1d"
      ],
      "execution_count": 4,
      "outputs": []
    },
    {
      "cell_type": "markdown",
      "metadata": {
        "id": "n8yRBKW4ckeH",
        "colab_type": "text"
      },
      "source": [
        "## Simulation"
      ]
    },
    {
      "cell_type": "code",
      "metadata": {
        "id": "koyo1WBB2eG7",
        "colab_type": "code",
        "colab": {
          "base_uri": "https://localhost:8080/",
          "height": 135
        },
        "outputId": "0748a4c1-5fde-40bf-d9ce-d88db551a028"
      },
      "source": [
        "import warnings\n",
        "warnings.filterwarnings(\"ignore\")\n",
        "\n",
        "\"\"\"\"\"\"\"\"\"\"\"\n",
        "PUT THE INPUT TXT DATA\n",
        "\"\"\"\"\"\"\"\"\"\"\"\n",
        "\n",
        "filepath = '/content/pyresim/input/basic/basic1d_input.txt'\n",
        "\n",
        "# call the read_input function to read input data\n",
        "reservoir_input, wells, west, east = read_input(filepath)\n",
        "\n",
        "\"\"\"\"\"\"\"\"\"\"\"\n",
        "ADD ELEVATION\n",
        "\n",
        "N.b.: there are 2 approaches to add elevation in case of ELEVATED grid block\n",
        "      * upload the depth input file using function 'read_depth'\n",
        "      * create synthetic depth data using Numpy method in Python\n",
        "\"\"\"\"\"\"\"\"\"\"\"\n",
        "\n",
        "## Read or create synthetic depth data\n",
        "depthpath = '/content/pyresim/input/basic/basic1d_depth.txt'\n",
        "x, depth = read_depth(depthpath)\n",
        "\n",
        "## Boundary depth (if not elevated, leave both with ZEROS)\n",
        "## then add to the 'west_boundary' and 'east_boundary' already created before\n",
        "west_depth, east_depth = 4000, 2900\n",
        "west['depth'] = west_depth \n",
        "east['depth'] = east_depth\n",
        "\n",
        "\"\"\"\"\"\"\"\"\"\"\"\n",
        "INPUT PROCESSING\n",
        "\"\"\"\"\"\"\"\"\"\"\"\n",
        "\n",
        "# number of blocks in x and y\n",
        "xi = reservoir_input['xi']\n",
        "\n",
        "# define parameters, in this case blocks are homogeneous and same in size\n",
        "dx = reservoir_input['dx'] \n",
        "dy = reservoir_input['dy']\n",
        "dz = reservoir_input['dz']\n",
        "kx = reservoir_input['kx']\n",
        "B = reservoir_input['B']\n",
        "mu = reservoir_input['mu']\n",
        "rho = reservoir_input['rho']\n",
        "\n",
        "# well information (dataframe)\n",
        "well_name = wells['well_name']\n",
        "well_rw = wells['well_rw'] / 12  # wellbore radius, inch to ft\n",
        "well_skin = wells['well_skin']\n",
        "well_loc = wells['well_loc']\n",
        "well_condition = wells['well_rw']\n",
        "well_value = wells['well_value']\n",
        "well_config = wells['well_config']\n",
        "\n",
        "\"\"\"\"\"\"\"\"\"\"\"\n",
        "GRIDDING\n",
        "\"\"\"\"\"\"\"\"\"\"\"\n",
        "\n",
        "# calculate elevation\n",
        "elev = [j - i for i, j in zip(depth[:-1], depth[1:])]\n",
        "\n",
        "\n",
        "\"\"\"\"\"\"\"\"\"\"\"\n",
        "WELL INFORMATION PROCESSING\n",
        "\"\"\"\"\"\"\"\"\"\"\"\n",
        "\n",
        "# source block (production or injection well)\n",
        "well_loc = np.array(well_loc).astype(int)\n",
        "qsc = source1d(well_value, well_loc, xi)  # call function HERE\n",
        "\n",
        "# Calculate wellblock geometric factor\n",
        "kh, r_eq, Gw = [], [], []\n",
        "\n",
        "for i in range(len(well_config)):\n",
        "    kh_, r_eq_, Gw_ = fraction_wellblock_geometric_factor(dx, dy, kx, kx, well_skin[i],\n",
        "                                                          well_rw[i], dz, well_config[i])\n",
        "    kh.append(kh_);\n",
        "    r_eq.append(r_eq_);\n",
        "    Gw.append(Gw_)\n",
        "\n",
        "# create dataframe from the created dictionary\n",
        "well_df = pd.DataFrame.from_dict(wells)\n",
        "\n",
        "well_mu = np.full(len(well_loc), mu)\n",
        "well_B = np.full(len(well_loc), B)\n",
        "well_dz = np.full(len(well_loc), dz)\n",
        "\n",
        "well_df['well_loc'] = well_loc\n",
        "well_df['well_dz'] = dz\n",
        "well_df['well_kh'] = kh\n",
        "well_df['well_mu'] = mu\n",
        "well_df['well_B'] = B\n",
        "well_df['well_Gw'] = Gw\n",
        "\n",
        "\"\"\"\"\"\"\"\"\"\"\"\n",
        "SIMULATION\n",
        "\"\"\"\"\"\"\"\"\"\"\"\n",
        "\n",
        "T_min_array, T_plus_array = np.zeros(xi), np.zeros(xi)\n",
        "lhs_mat = np.array([[0.] * xi] * xi)\n",
        "rhs_mat = np.array([[0.] * 1] * xi)\n",
        "\n",
        "for i in range(xi):\n",
        "\n",
        "    T_min, T_plus = transmissibility1d(dx, dy, dz, kx, mu, B)\n",
        "\n",
        "    if i == 0:\n",
        "        # left boundary\n",
        "\n",
        "        ## flow rate from boundary\n",
        "        qsc_b = boundary_floweq1d(west['type'], dx, dy, dz, kx, mu, B, value=west['value'], no_block=(i + 1))\n",
        "\n",
        "        ## LHS coeffs\n",
        "        T_plus = T_plus\n",
        "        T_min = transmissibility1d_boundary(west['type'], dx, dy, dz, kx, mu, B)\n",
        "\n",
        "        p_plus, p_min, p = lhs_coeffs1d_welltype('west', (i + 1), well_df, qsc, T_plus, T_min)\n",
        "\n",
        "        ## calculate potential term for the RHS constant\n",
        "        potential_term = potential_term1d(rho, T_min, T_plus, west['depth'], depth[i], depth[i + 1])\n",
        "\n",
        "        ## RHS constants\n",
        "        # rhs = rhs_constant('incompressible', west['type'], qsc[i], T_pb=T_min, p_b=west['value'])\n",
        "        rhs = rhs_constant1d_welltype('incompressible', west['type'], (i + 1), well_df, potential_term, qsc_b, T_pb=T_min,\n",
        "                                    p_b=west['value'])\n",
        "\n",
        "        ## fill in LHS matrix (lhs_mat)\n",
        "        lhs_mat[i, i] = p\n",
        "        lhs_mat[i, i + 1] = p_plus\n",
        "\n",
        "        ## fill in RHS matrix (rhs_mat)   \n",
        "        rhs_mat[i, 0] = rhs\n",
        "\n",
        "    elif i == xi - 1:\n",
        "        # right boundary\n",
        "\n",
        "        ## flow rate from boundary\n",
        "        qsc_b = boundary_floweq1d(east['type'], dx, dy, dz, kx, mu, B, value=east['value'], no_block=(i + 1))\n",
        "\n",
        "        ## LHS coeffs\n",
        "        T_plus = transmissibility1d_boundary(east['type'], dx, dy, dz, kx, mu, B)\n",
        "        T_min = T_min\n",
        "        p_plus, p_min, p = lhs_coeffs1d_welltype('east', (i + 1), well_df, qsc, T_plus, T_min)\n",
        "\n",
        "        ## calculate potential term for the RHS constant\n",
        "        potential_term = potential_term1d(rho, T_min, T_plus, depth[i - 1], depth[i], east['depth'])\n",
        "\n",
        "        ## RHS constants      \n",
        "        # rhs = rhs_constant('incompressible', east['type'], qsc[i])    \n",
        "        rhs = rhs_constant1d_welltype('incompressible', east['type'], (i + 1), well_df, potential_term, qsc_b,\n",
        "                                    T_pb=T_plus, p_b=east['value'])\n",
        "\n",
        "        ## fill in LHS matrix (lhs_mat)\n",
        "        lhs_mat[i, i - 1] = p_min\n",
        "        lhs_mat[i, i] = p\n",
        "\n",
        "        ## fill in RHS matrix (rhs_mat)    \n",
        "        rhs_mat[i, 0] = rhs\n",
        "\n",
        "    else:\n",
        "\n",
        "        ## calculate potential term for the RHS constant\n",
        "\n",
        "        T_plus, T_min = T_plus, T_min\n",
        "        p_plus, p_min, p = lhs_coeffs1d_welltype(None, (i+1), well_df, qsc, T_plus, T_min) \n",
        "        # p_plus, p_min, p = lhs_coeffs1d(None, T_plus, T_min)\n",
        "\n",
        "        ## calculate potential term for the RHS constant\n",
        "        potential_term = potential_term1d(rho, T_min, T_plus, depth[i - 1], depth[i], depth[i + 1])\n",
        "\n",
        "        ## RHS constants      \n",
        "        rhs = -qsc[i] + potential_term\n",
        "\n",
        "        ## fill in LHS matrix (lhs_mat)\n",
        "        lhs_mat[i, i - 1] = p_min\n",
        "        lhs_mat[i, i] = p\n",
        "        lhs_mat[i, i + 1] = p_plus\n",
        "\n",
        "        ## fill in RHS matrix (rhs_mat)    \n",
        "        rhs_mat[i, 0] = rhs\n",
        "\n",
        "        # print the transmissibility\n",
        "    T_min_array[i], T_plus_array[i] = T_min, T_plus\n",
        "\n",
        "\"\"\"\"\"\"\"\"\"\"\"\n",
        "PRESSURE SOLVER\n",
        "\"\"\"\"\"\"\"\"\"\"\"\n",
        "\n",
        "p_sol = np.linalg.solve(lhs_mat, rhs_mat)\n",
        "\n",
        "\"\"\"\"\"\"\"\"\"\"\"\n",
        "DISPLAY PRESSURE\n",
        "\"\"\"\"\"\"\"\"\"\"\"\n",
        "\n",
        "p_sol = p_sol.T.reshape(-1)\n",
        "p_sol_ = np.expand_dims(p_sol, axis=0)  # or axis=1\n",
        "plt.imshow(p_sol_)\n",
        "plt.colorbar(orientation='horizontal')\n",
        "plt.show() "
      ],
      "execution_count": 14,
      "outputs": [
        {
          "output_type": "display_data",
          "data": {
            "image/png": "[encoded data removed]",
            "text/plain": [
              "<Figure size 432x288 with 2 Axes>"
            ]
          },
          "metadata": {
            "tags": [],
            "needs_background": "light"
          }
        }
      ]
    },
    {
      "cell_type": "code",
      "metadata": {
        "id": "b2bYHRD0_-Xc",
        "colab_type": "code",
        "colab": {
          "base_uri": "https://localhost:8080/",
          "height": 137
        },
        "outputId": "3d53b389-1fc5-49de-bdd9-06e3bb310a18"
      },
      "source": [
        "\"\"\"\"\"\"\"\"\"\"\"\n",
        "WELL SIMULATION\n",
        "\"\"\"\"\"\"\"\"\"\"\"\n",
        "\n",
        "well_report = solution_well1d(well_df, p_sol)\n",
        "well_report = well_report.drop(['well_dz', 'well_kh', 'well_mu', 'well_B', 'well_Gw'], 1)\n",
        "well_report"
      ],
      "execution_count": 15,
      "outputs": [
        {
          "output_type": "execute_result",
          "data": {
            "text/html": [
              "<div>\n",
              "<style scoped>\n",
              "    .dataframe tbody tr th:only-of-type {\n",
              "        vertical-align: middle;\n",
              "    }\n",
              "\n",
              "    .dataframe tbody tr th {\n",
              "        vertical-align: top;\n",
              "    }\n",
              "\n",
              "    .dataframe thead th {\n",
              "        text-align: right;\n",
              "    }\n",
              "</style>\n",
              "<table border=\"1\" class=\"dataframe\">\n",
              "  <thead>\n",
              "    <tr style=\"text-align: right;\">\n",
              "      <th></th>\n",
              "      <th>well_name</th>\n",
              "      <th>well_loc</th>\n",
              "      <th>well_rw</th>\n",
              "      <th>well_skin</th>\n",
              "      <th>well_condition</th>\n",
              "      <th>well_value</th>\n",
              "      <th>well_config</th>\n",
              "      <th>fbhp_sol</th>\n",
              "      <th>rate_sol</th>\n",
              "    </tr>\n",
              "  </thead>\n",
              "  <tbody>\n",
              "    <tr>\n",
              "      <th>0</th>\n",
              "      <td>B</td>\n",
              "      <td>4</td>\n",
              "      <td>3.5</td>\n",
              "      <td>0.0</td>\n",
              "      <td>constant_rate</td>\n",
              "      <td>500.0</td>\n",
              "      <td>0.0</td>\n",
              "      <td>2800.579299</td>\n",
              "      <td>500.0</td>\n",
              "    </tr>\n",
              "    <tr>\n",
              "      <th>1</th>\n",
              "      <td>D</td>\n",
              "      <td>8</td>\n",
              "      <td>3.5</td>\n",
              "      <td>0.0</td>\n",
              "      <td>constant_rate</td>\n",
              "      <td>-150.0</td>\n",
              "      <td>0.0</td>\n",
              "      <td>2147.009202</td>\n",
              "      <td>-150.0</td>\n",
              "    </tr>\n",
              "    <tr>\n",
              "      <th>2</th>\n",
              "      <td>E</td>\n",
              "      <td>10</td>\n",
              "      <td>3.5</td>\n",
              "      <td>0.0</td>\n",
              "      <td>constant_rate</td>\n",
              "      <td>-200.0</td>\n",
              "      <td>0.0</td>\n",
              "      <td>1962.121091</td>\n",
              "      <td>-200.0</td>\n",
              "    </tr>\n",
              "  </tbody>\n",
              "</table>\n",
              "</div>"
            ],
            "text/plain": [
              "  well_name  well_loc  well_rw  ...  well_config     fbhp_sol  rate_sol\n",
              "0         B         4      3.5  ...          0.0  2800.579299     500.0\n",
              "1         D         8      3.5  ...          0.0  2147.009202    -150.0\n",
              "2         E        10      3.5  ...          0.0  1962.121091    -200.0\n",
              "\n",
              "[3 rows x 9 columns]"
            ]
          },
          "metadata": {
            "tags": []
          },
          "execution_count": 15
        }
      ]
    }
  ]
}